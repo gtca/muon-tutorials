{
 "cells": [
  {
   "cell_type": "code",
   "execution_count": 1,
   "metadata": {},
   "outputs": [],
   "source": [
    "import muon as mu\n",
    "import mofapy2\n",
    "import mofax\n",
    "import pandas as pd\n",
    "import scanpy as sc\n",
    "import numpy as np"
   ]
  },
  {
   "cell_type": "code",
   "execution_count": 2,
   "metadata": {},
   "outputs": [],
   "source": [
    "import os\n",
    "os.chdir('/icgc/dkfzlsdf/analysis/B260/users/velten/projects/infrastructure/multi-omics-tutorials/')"
   ]
  },
  {
   "cell_type": "markdown",
   "metadata": {},
   "source": [
    "## Load data\n",
    "\n",
    "First we will load the evodevo data containing normalized gene expression data for 5 species (groups) and 5 organs (views) as well as the developmental time information for each sample."
   ]
  },
  {
   "cell_type": "code",
   "execution_count": 3,
   "metadata": {},
   "outputs": [],
   "source": [
    "datadir = \"data/evodevo\""
   ]
  },
  {
   "cell_type": "code",
   "execution_count": 4,
   "metadata": {},
   "outputs": [
    {
     "name": "stderr",
     "output_type": "stream",
     "text": [
      "/icgc/dkfzlsdf/analysis/B260/software/users/velten/envs/muon/lib/python3.7/site-packages/numpy/lib/arraysetops.py:569: FutureWarning: elementwise comparison failed; returning scalar instead, but in the future will perform elementwise comparison\n",
      "  mask |= (ar1 == a)\n"
     ]
    }
   ],
   "source": [
    "data = pd.read_csv(f\"{datadir}/evodevo.csv\", sep=\",\", index_col=0)\n",
    "data"
   ]
  },
  {
   "cell_type": "markdown",
   "metadata": {},
   "source": [
    "First, we create a collection of AnnData objects from this dataframe, one for each organ."
   ]
  },
  {
   "cell_type": "code",
   "execution_count": 5,
   "metadata": {},
   "outputs": [
    {
     "data": {
      "text/plain": [
       "{'Brain': AnnData object with n_obs × n_vars = 83 × 7696,\n",
       " 'Cerebellum': AnnData object with n_obs × n_vars = 83 × 7696,\n",
       " 'Heart': AnnData object with n_obs × n_vars = 83 × 7696,\n",
       " 'Liver': AnnData object with n_obs × n_vars = 83 × 7696,\n",
       " 'Testis': AnnData object with n_obs × n_vars = 83 × 7696}"
      ]
     },
     "execution_count": 5,
     "metadata": {},
     "output_type": "execute_result"
    }
   ],
   "source": [
    "mods = {m:sc.AnnData(data[data.view == m].pivot(index='sample', columns='feature', values='value')) for m in (data['view']).unique()}\n",
    "mods"
   ]
  },
  {
   "cell_type": "markdown",
   "metadata": {},
   "source": [
    "In addition, we keep the meta data for each sample, containing the developmental time points."
   ]
  },
  {
   "cell_type": "code",
   "execution_count": 23,
   "metadata": {},
   "outputs": [
    {
     "data": {
      "text/html": [
       "<div>\n",
       "<style scoped>\n",
       "    .dataframe tbody tr th:only-of-type {\n",
       "        vertical-align: middle;\n",
       "    }\n",
       "\n",
       "    .dataframe tbody tr th {\n",
       "        vertical-align: top;\n",
       "    }\n",
       "\n",
       "    .dataframe thead th {\n",
       "        text-align: right;\n",
       "    }\n",
       "</style>\n",
       "<table border=\"1\" class=\"dataframe\">\n",
       "  <thead>\n",
       "    <tr style=\"text-align: right;\">\n",
       "      <th></th>\n",
       "      <th>time</th>\n",
       "      <th>species</th>\n",
       "    </tr>\n",
       "    <tr>\n",
       "      <th>sample</th>\n",
       "      <th></th>\n",
       "      <th></th>\n",
       "    </tr>\n",
       "  </thead>\n",
       "  <tbody>\n",
       "    <tr>\n",
       "      <th>4wpc_Human</th>\n",
       "      <td>1</td>\n",
       "      <td>Human</td>\n",
       "    </tr>\n",
       "    <tr>\n",
       "      <th>5wpc_Human</th>\n",
       "      <td>2</td>\n",
       "      <td>Human</td>\n",
       "    </tr>\n",
       "    <tr>\n",
       "      <th>6wpc_Human</th>\n",
       "      <td>3</td>\n",
       "      <td>Human</td>\n",
       "    </tr>\n",
       "    <tr>\n",
       "      <th>7wpc_Human</th>\n",
       "      <td>4</td>\n",
       "      <td>Human</td>\n",
       "    </tr>\n",
       "    <tr>\n",
       "      <th>8wpc_Human</th>\n",
       "      <td>5</td>\n",
       "      <td>Human</td>\n",
       "    </tr>\n",
       "    <tr>\n",
       "      <th>...</th>\n",
       "      <td>...</td>\n",
       "      <td>...</td>\n",
       "    </tr>\n",
       "    <tr>\n",
       "      <th>P3_Rat</th>\n",
       "      <td>12</td>\n",
       "      <td>Rat</td>\n",
       "    </tr>\n",
       "    <tr>\n",
       "      <th>P7_Rat</th>\n",
       "      <td>13</td>\n",
       "      <td>Rat</td>\n",
       "    </tr>\n",
       "    <tr>\n",
       "      <th>P14_Rat</th>\n",
       "      <td>14</td>\n",
       "      <td>Rat</td>\n",
       "    </tr>\n",
       "    <tr>\n",
       "      <th>P42_Rat</th>\n",
       "      <td>15</td>\n",
       "      <td>Rat</td>\n",
       "    </tr>\n",
       "    <tr>\n",
       "      <th>P112_Rat</th>\n",
       "      <td>16</td>\n",
       "      <td>Rat</td>\n",
       "    </tr>\n",
       "  </tbody>\n",
       "</table>\n",
       "<p>83 rows × 2 columns</p>\n",
       "</div>"
      ],
      "text/plain": [
       "            time species\n",
       "sample                  \n",
       "4wpc_Human     1   Human\n",
       "5wpc_Human     2   Human\n",
       "6wpc_Human     3   Human\n",
       "7wpc_Human     4   Human\n",
       "8wpc_Human     5   Human\n",
       "...          ...     ...\n",
       "P3_Rat        12     Rat\n",
       "P7_Rat        13     Rat\n",
       "P14_Rat       14     Rat\n",
       "P42_Rat       15     Rat\n",
       "P112_Rat      16     Rat\n",
       "\n",
       "[83 rows x 2 columns]"
      ]
     },
     "execution_count": 23,
     "metadata": {},
     "output_type": "execute_result"
    }
   ],
   "source": [
    "obs = data[['sample', 'time', 'group']].drop_duplicates()\n",
    "obs.rename(columns = {'group' : 'species'}, inplace = True)\n",
    "obs = obs.set_index('sample') \n",
    "obs"
   ]
  },
  {
   "cell_type": "markdown",
   "metadata": {},
   "source": [
    "We create a muon object"
   ]
  },
  {
   "cell_type": "code",
   "execution_count": 24,
   "metadata": {},
   "outputs": [],
   "source": [
    "mdata = mu.MuData(mods)\n",
    "mdata.obs = mdata.obs.join(obs)"
   ]
  },
  {
   "cell_type": "markdown",
   "metadata": {},
   "source": [
    "This contains both the gene expression data,"
   ]
  },
  {
   "cell_type": "code",
   "execution_count": 25,
   "metadata": {},
   "outputs": [
    {
     "data": {
      "text/plain": [
       "AnnData object with n_obs × n_vars = 83 × 7696"
      ]
     },
     "execution_count": 25,
     "metadata": {},
     "output_type": "execute_result"
    }
   ],
   "source": [
    "mdata\n",
    "mdata['Brain']"
   ]
  },
  {
   "cell_type": "markdown",
   "metadata": {},
   "source": [
    "as well as the sample-level information given by the developmental time points, which are not yet matched for different species."
   ]
  },
  {
   "cell_type": "code",
   "execution_count": 26,
   "metadata": {},
   "outputs": [
    {
     "data": {
      "text/html": [
       "<div>\n",
       "<style scoped>\n",
       "    .dataframe tbody tr th:only-of-type {\n",
       "        vertical-align: middle;\n",
       "    }\n",
       "\n",
       "    .dataframe tbody tr th {\n",
       "        vertical-align: top;\n",
       "    }\n",
       "\n",
       "    .dataframe thead th {\n",
       "        text-align: right;\n",
       "    }\n",
       "</style>\n",
       "<table border=\"1\" class=\"dataframe\">\n",
       "  <thead>\n",
       "    <tr style=\"text-align: right;\">\n",
       "      <th></th>\n",
       "      <th>time</th>\n",
       "      <th>species</th>\n",
       "    </tr>\n",
       "    <tr>\n",
       "      <th>sample</th>\n",
       "      <th></th>\n",
       "      <th></th>\n",
       "    </tr>\n",
       "  </thead>\n",
       "  <tbody>\n",
       "    <tr>\n",
       "      <th>10wpc_Human</th>\n",
       "      <td>7</td>\n",
       "      <td>Human</td>\n",
       "    </tr>\n",
       "    <tr>\n",
       "      <th>11wpc_Human</th>\n",
       "      <td>8</td>\n",
       "      <td>Human</td>\n",
       "    </tr>\n",
       "    <tr>\n",
       "      <th>12wpc_Human</th>\n",
       "      <td>9</td>\n",
       "      <td>Human</td>\n",
       "    </tr>\n",
       "    <tr>\n",
       "      <th>13wpc_Human</th>\n",
       "      <td>10</td>\n",
       "      <td>Human</td>\n",
       "    </tr>\n",
       "    <tr>\n",
       "      <th>16wpc_Human</th>\n",
       "      <td>11</td>\n",
       "      <td>Human</td>\n",
       "    </tr>\n",
       "    <tr>\n",
       "      <th>...</th>\n",
       "      <td>...</td>\n",
       "      <td>...</td>\n",
       "    </tr>\n",
       "    <tr>\n",
       "      <th>senior_Human</th>\n",
       "      <td>23</td>\n",
       "      <td>Human</td>\n",
       "    </tr>\n",
       "    <tr>\n",
       "      <th>teenager_Human</th>\n",
       "      <td>19</td>\n",
       "      <td>Human</td>\n",
       "    </tr>\n",
       "    <tr>\n",
       "      <th>toddler_Human</th>\n",
       "      <td>17</td>\n",
       "      <td>Human</td>\n",
       "    </tr>\n",
       "    <tr>\n",
       "      <th>youngAdult_Human</th>\n",
       "      <td>20</td>\n",
       "      <td>Human</td>\n",
       "    </tr>\n",
       "    <tr>\n",
       "      <th>youngMidAge_Human</th>\n",
       "      <td>21</td>\n",
       "      <td>Human</td>\n",
       "    </tr>\n",
       "  </tbody>\n",
       "</table>\n",
       "<p>83 rows × 2 columns</p>\n",
       "</div>"
      ],
      "text/plain": [
       "                   time species\n",
       "sample                         \n",
       "10wpc_Human           7   Human\n",
       "11wpc_Human           8   Human\n",
       "12wpc_Human           9   Human\n",
       "13wpc_Human          10   Human\n",
       "16wpc_Human          11   Human\n",
       "...                 ...     ...\n",
       "senior_Human         23   Human\n",
       "teenager_Human       19   Human\n",
       "toddler_Human        17   Human\n",
       "youngAdult_Human     20   Human\n",
       "youngMidAge_Human    21   Human\n",
       "\n",
       "[83 rows x 2 columns]"
      ]
     },
     "execution_count": 26,
     "metadata": {},
     "output_type": "execute_result"
    }
   ],
   "source": [
    "mdata.obs # problem: this is sorted by sample name and leads to wrong annotation if these are not order by views"
   ]
  },
  {
   "cell_type": "markdown",
   "metadata": {},
   "source": [
    "## Integrate data"
   ]
  },
  {
   "cell_type": "markdown",
   "metadata": {},
   "source": [
    "MEFISTO can be run on a MuData using the mofa command and specifying the time information to use.\n",
    "\n",
    "We will fill missing samples in certain modalities with NAs by using use_obs='union'.\n",
    "\n",
    "We specify to use the species as groups.\n",
    "\n",
    "As we want to incorporate the time information we specify which column in the metadata to use as covariate for mefisto (\"time\").\n",
    "\n",
    "In addition, we tell the model that we want to learn an alignment of the time points from different species by setting mefisto_warping to True and using Mouse as reference.\n",
    "\n",
    "For illustration, we only use a small number of training iterations."
   ]
  },
  {
   "cell_type": "code",
   "execution_count": 10,
   "metadata": {},
   "outputs": [
    {
     "data": {
      "text/plain": [
       "1"
      ]
     },
     "execution_count": 10,
     "metadata": {},
     "output_type": "execute_result"
    }
   ],
   "source": [
    "ref_species = np.where(mdata.obs['species'].unique() == \"Mouse\")[0]\n",
    "ref_species = ref_species.item()\n",
    "ref_species"
   ]
  },
  {
   "cell_type": "code",
   "execution_count": 11,
   "metadata": {},
   "outputs": [
    {
     "name": "stdout",
     "output_type": "stream",
     "text": [
      "Importing the dtw module. When using in academic works please cite:\n",
      "  T. Giorgino. Computing and Visualizing Dynamic Time Warping Alignments in R: The dtw Package.\n",
      "  J. Stat. Soft., doi:10.18637/jss.v031.i07.\n",
      "\n",
      "\n",
      "        #########################################################\n",
      "        ###           __  __  ____  ______                    ### \n",
      "        ###          |  \\/  |/ __ \\|  ____/\\    _             ### \n",
      "        ###          | \\  / | |  | | |__ /  \\ _| |_           ### \n",
      "        ###          | |\\/| | |  | |  __/ /\\ \\_   _|          ###\n",
      "        ###          | |  | | |__| | | / ____ \\|_|            ###\n",
      "        ###          |_|  |_|\\____/|_|/_/    \\_\\              ###\n",
      "        ###                                                   ### \n",
      "        ######################################################### \n",
      "       \n",
      " \n",
      "        \n",
      "Loaded view='Brain' group='Human' with N=23 samples and D=7696 features...\n",
      "Loaded view='Brain' group='Mouse' with N=14 samples and D=7696 features...\n",
      "Loaded view='Brain' group='Opossum' with N=15 samples and D=7696 features...\n",
      "Loaded view='Brain' group='Rabbit' with N=15 samples and D=7696 features...\n",
      "Loaded view='Brain' group='Rat' with N=16 samples and D=7696 features...\n",
      "Loaded view='Cerebellum' group='Human' with N=23 samples and D=7696 features...\n",
      "Loaded view='Cerebellum' group='Mouse' with N=14 samples and D=7696 features...\n",
      "Loaded view='Cerebellum' group='Opossum' with N=15 samples and D=7696 features...\n",
      "Loaded view='Cerebellum' group='Rabbit' with N=15 samples and D=7696 features...\n",
      "Loaded view='Cerebellum' group='Rat' with N=16 samples and D=7696 features...\n",
      "Loaded view='Heart' group='Human' with N=23 samples and D=7696 features...\n",
      "Loaded view='Heart' group='Mouse' with N=14 samples and D=7696 features...\n",
      "Loaded view='Heart' group='Opossum' with N=15 samples and D=7696 features...\n",
      "Loaded view='Heart' group='Rabbit' with N=15 samples and D=7696 features...\n",
      "Loaded view='Heart' group='Rat' with N=16 samples and D=7696 features...\n",
      "Loaded view='Liver' group='Human' with N=23 samples and D=7696 features...\n",
      "Loaded view='Liver' group='Mouse' with N=14 samples and D=7696 features...\n",
      "Loaded view='Liver' group='Opossum' with N=15 samples and D=7696 features...\n",
      "Loaded view='Liver' group='Rabbit' with N=15 samples and D=7696 features...\n",
      "Loaded view='Liver' group='Rat' with N=16 samples and D=7696 features...\n",
      "Loaded view='Testis' group='Human' with N=23 samples and D=7696 features...\n",
      "Loaded view='Testis' group='Mouse' with N=14 samples and D=7696 features...\n",
      "Loaded view='Testis' group='Opossum' with N=15 samples and D=7696 features...\n",
      "Loaded view='Testis' group='Rabbit' with N=15 samples and D=7696 features...\n",
      "Loaded view='Testis' group='Rat' with N=16 samples and D=7696 features...\n",
      "\n",
      "\n",
      "Model options:\n",
      "- Automatic Relevance Determination prior on the factors: True\n",
      "- Automatic Relevance Determination prior on the weights: True\n",
      "- Spike-and-slab prior on the factors: False\n",
      "- Spike-and-slab prior on the weights: True\n",
      "Likelihoods:\n",
      "- View 0 (Brain): gaussian\n",
      "- View 1 (Cerebellum): gaussian\n",
      "- View 2 (Heart): gaussian\n",
      "- View 3 (Liver): gaussian\n",
      "- View 4 (Testis): gaussian\n",
      "\n",
      "\n",
      "Loaded 1 covariate(s) for each sample...\n",
      "\n",
      "\n",
      "Smooth covariate framework is activated. This is not compatible with ARD prior on factors. Setting ard_factors to False...\n",
      "\n",
      "##\n",
      "## Warping set to True: aligning the covariates across groups\n",
      "##\n",
      "\n",
      "\n",
      "######################################\n",
      "## Training the model with seed 1 ##\n",
      "######################################\n",
      "\n",
      "\n",
      "Covariates were aligned between groups.\n",
      "Optimising sigma node...\n",
      "Sigma node has been optimised:\n",
      "- Lengthscales = [0.  , 0.  , 0.  , 0.  , 0.79] \n",
      "- Scale = [0.  , 0.  , 0.  , 0.  , 0.11]\n",
      "\n",
      "\n",
      "#######################\n",
      "## Training finished ##\n",
      "#######################\n",
      "\n",
      "\n",
      "Warning: Output file models/mefisto_evodevo.hdf5 already exists, it will be replaced\n",
      "Saving model in models/mefisto_evodevo.hdf5...\n",
      "Saved MOFA embeddings in .obsm['X_mofa'] slot and their loadings in .varm['LFs'].\n"
     ]
    }
   ],
   "source": [
    "mu.tl.mofa(mdata, use_obs='union', \n",
    "           groups_label=\"species\",\n",
    "           n_factors=5, \n",
    "           mefisto_covariate = 'time',\n",
    "           mefisto_warping = True,\n",
    "           mefisto_warping_ref = ref_species,\n",
    "           outfile=\"models/mefisto_evodevo.hdf5\",\n",
    "           n_iterations = 25)"
   ]
  },
  {
   "cell_type": "markdown",
   "metadata": {},
   "source": [
    "## Visualization in the factor space"
   ]
  },
  {
   "cell_type": "markdown",
   "metadata": {},
   "source": [
    "Let's take a look at the decomposition learnt by the model."
   ]
  },
  {
   "cell_type": "code",
   "execution_count": 12,
   "metadata": {},
   "outputs": [
    {
     "name": "stderr",
     "output_type": "stream",
     "text": [
      "... storing 'species' as categorical\n",
      "WARNING:matplotlib.axes._axes:*c* argument looks like a single numeric RGB or RGBA sequence, which should be avoided as value-mapping will have precedence in case its length matches with *x* & *y*.  Please use the *color* keyword-argument or provide a 2-D array with a single row if you intend to specify the same RGB or RGBA value for all points.\n",
      "WARNING:matplotlib.axes._axes:*c* argument looks like a single numeric RGB or RGBA sequence, which should be avoided as value-mapping will have precedence in case its length matches with *x* & *y*.  Please use the *color* keyword-argument or provide a 2-D array with a single row if you intend to specify the same RGB or RGBA value for all points.\n",
      "WARNING:matplotlib.axes._axes:*c* argument looks like a single numeric RGB or RGBA sequence, which should be avoided as value-mapping will have precedence in case its length matches with *x* & *y*.  Please use the *color* keyword-argument or provide a 2-D array with a single row if you intend to specify the same RGB or RGBA value for all points.\n",
      "WARNING:matplotlib.axes._axes:*c* argument looks like a single numeric RGB or RGBA sequence, which should be avoided as value-mapping will have precedence in case its length matches with *x* & *y*.  Please use the *color* keyword-argument or provide a 2-D array with a single row if you intend to specify the same RGB or RGBA value for all points.\n",
      "WARNING:matplotlib.axes._axes:*c* argument looks like a single numeric RGB or RGBA sequence, which should be avoided as value-mapping will have precedence in case its length matches with *x* & *y*.  Please use the *color* keyword-argument or provide a 2-D array with a single row if you intend to specify the same RGB or RGBA value for all points.\n"
     ]
    },
    {
     "data": {
      "image/png": "[encoded data removed]",
      "text/plain": [
       "<Figure size 432x288 with 1 Axes>"
      ]
     },
     "metadata": {},
     "output_type": "display_data"
    }
   ],
   "source": [
    "mu.pl.mofa(mdata, color=\"species\", size = 250)"
   ]
  },
  {
   "cell_type": "code",
   "execution_count": 13,
   "metadata": {},
   "outputs": [
    {
     "name": "stderr",
     "output_type": "stream",
     "text": [
      "... storing 'species' as categorical\n"
     ]
    },
    {
     "data": {
      "image/png": "[encoded data removed]",
      "text/plain": [
       "<Figure size 432x288 with 2 Axes>"
      ]
     },
     "metadata": {
      "needs_background": "light"
     },
     "output_type": "display_data"
    }
   ],
   "source": [
    "mu.pl.mofa(mdata, color=\"time\", size = 250)"
   ]
  },
  {
   "cell_type": "code",
   "execution_count": 14,
   "metadata": {},
   "outputs": [
    {
     "name": "stderr",
     "output_type": "stream",
     "text": [
      "... storing 'species' as categorical\n"
     ]
    },
    {
     "data": {
      "image/png": "[encoded data removed]",
      "text/plain": [
       "<Figure size 432x288 with 2 Axes>"
      ]
     },
     "metadata": {
      "needs_background": "light"
     },
     "output_type": "display_data"
    }
   ],
   "source": [
    "mu.pl.mofa(mdata, color=\"time_warped\", size = 250)"
   ]
  },
  {
   "cell_type": "markdown",
   "metadata": {},
   "source": [
    "## Latent factors versus common developmental time"
   ]
  },
  {
   "cell_type": "markdown",
   "metadata": {},
   "source": [
    "We can plot the latent processes along the inferred common developmental time."
   ]
  },
  {
   "cell_type": "code",
   "execution_count": 15,
   "metadata": {},
   "outputs": [
    {
     "data": {
      "text/plain": [
       "(83, 5)"
      ]
     },
     "execution_count": 15,
     "metadata": {},
     "output_type": "execute_result"
    }
   ],
   "source": [
    "mdata.obsm['X_mofa'].shape"
   ]
  },
  {
   "cell_type": "code",
   "execution_count": 16,
   "metadata": {},
   "outputs": [
    {
     "data": {
      "text/plain": [
       "<AxesSubplot:xlabel='time', ylabel='Factor1'>"
      ]
     },
     "execution_count": 16,
     "metadata": {},
     "output_type": "execute_result"
    },
    {
     "data": {
      "image/png": "[encoded data removed]",
      "text/plain": [
       "<Figure size 432x288 with 1 Axes>"
      ]
     },
     "metadata": {
      "needs_background": "light"
     },
     "output_type": "display_data"
    }
   ],
   "source": [
    "import seaborn as sns\n",
    "df = pd.DataFrame({'time' : mdata.obs['time'], 'Factor1' : mdata.obsm['X_mofa'][:,0], 'species' : mdata.obs['species']})\n",
    "sns.scatterplot(x = \"time\", y = \"Factor1\", hue = \"species\", data = df)"
   ]
  },
  {
   "cell_type": "markdown",
   "metadata": {},
   "source": [
    "## Alignment"
   ]
  },
  {
   "cell_type": "markdown",
   "metadata": {},
   "source": [
    "We can also take a look at the learnt alignemnt."
   ]
  },
  {
   "cell_type": "code",
   "execution_count": 17,
   "metadata": {},
   "outputs": [
    {
     "data": {
      "text/plain": [
       "<AxesSubplot:xlabel='time', ylabel='time_warped'>"
      ]
     },
     "execution_count": 17,
     "metadata": {},
     "output_type": "execute_result"
    },
    {
     "data": {
      "image/png": "[encoded data removed]",
      "text/plain": [
       "<Figure size 432x288 with 1 Axes>"
      ]
     },
     "metadata": {
      "needs_background": "light"
     },
     "output_type": "display_data"
    }
   ],
   "source": [
    "sns.scatterplot(x = \"time\", y = \"time_warped\", hue = \"species\", data = mdata.obs)"
   ]
  },
  {
   "cell_type": "markdown",
   "metadata": {},
   "source": [
    "## Further analyes"
   ]
  },
  {
   "cell_type": "markdown",
   "metadata": {},
   "source": [
    "Additionally we can take a look at the smoothness and sharedness of the factors, interpolate the factors or cluster the species based on the learnt group kernel of each latent factor.\n",
    "This is not yet implemented for muon and can be done from R as described [here](https://raw.githack.com/bioFAM/MEFISTO_tutorials/master/evodevo_tutorial.html)."
   ]
  },
  {
   "cell_type": "code",
   "execution_count": null,
   "metadata": {},
   "outputs": [],
   "source": []
  }
 ],
 "metadata": {
  "kernelspec": {
   "display_name": "Muon (kernel)",
   "language": "python",
   "name": "muon"
  },
  "language_info": {
   "codemirror_mode": {
    "name": "ipython",
    "version": 3
   },
   "file_extension": ".py",
   "mimetype": "text/x-python",
   "name": "python",
   "nbconvert_exporter": "python",
   "pygments_lexer": "ipython3",
   "version": "3.7.9"
  }
 },
 "nbformat": 4,
 "nbformat_minor": 4
}
