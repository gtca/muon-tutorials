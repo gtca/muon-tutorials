{
 "cells": [
  {
   "cell_type": "code",
   "execution_count": 1,
   "metadata": {},
   "outputs": [],
   "source": [
    "import muon as mu\n",
    "import mofapy2\n",
    "import mofax\n",
    "import pandas as pd\n",
    "import scanpy as sc\n",
    "import numpy as np"
   ]
  },
  {
   "cell_type": "markdown",
   "metadata": {},
   "source": [
    "## Load data\n",
    "\n",
    "First we will load the evodevo data containing normalized gene expression data for 5 species (groups) and 5 organs (views) as well as the developmental time information for each sample."
   ]
  },
  {
   "cell_type": "code",
   "execution_count": 3,
   "metadata": {},
   "outputs": [],
   "source": [
    "datadir = \"data/evodevo\""
   ]
  },
  {
   "cell_type": "code",
   "execution_count": 4,
   "metadata": {},
   "outputs": [
    {
     "name": "stderr",
     "output_type": "stream",
     "text": [
      "/icgc/dkfzlsdf/analysis/B260/software/users/velten/envs/muon/lib/python3.7/site-packages/numpy/lib/arraysetops.py:569: FutureWarning: elementwise comparison failed; returning scalar instead, but in the future will perform elementwise comparison\n",
      "  mask |= (ar1 == a)\n"
     ]
    },
    {
     "data": {
      "text/html": [
       "<div>\n",
       "<style scoped>\n",
       "    .dataframe tbody tr th:only-of-type {\n",
       "        vertical-align: middle;\n",
       "    }\n",
       "\n",
       "    .dataframe tbody tr th {\n",
       "        vertical-align: top;\n",
       "    }\n",
       "\n",
       "    .dataframe thead th {\n",
       "        text-align: right;\n",
       "    }\n",
       "</style>\n",
       "<table border=\"1\" class=\"dataframe\">\n",
       "  <thead>\n",
       "    <tr style=\"text-align: right;\">\n",
       "      <th></th>\n",
       "      <th>group</th>\n",
       "      <th>view</th>\n",
       "      <th>sample</th>\n",
       "      <th>feature</th>\n",
       "      <th>value</th>\n",
       "      <th>time</th>\n",
       "    </tr>\n",
       "  </thead>\n",
       "  <tbody>\n",
       "    <tr>\n",
       "      <th>1</th>\n",
       "      <td>Human</td>\n",
       "      <td>Brain</td>\n",
       "      <td>10wpc_Human</td>\n",
       "      <td>ENSG00000000457_Brain</td>\n",
       "      <td>8.573918</td>\n",
       "      <td>7</td>\n",
       "    </tr>\n",
       "    <tr>\n",
       "      <th>2</th>\n",
       "      <td>Human</td>\n",
       "      <td>Brain</td>\n",
       "      <td>10wpc_Human</td>\n",
       "      <td>ENSG00000001084_Brain</td>\n",
       "      <td>8.875957</td>\n",
       "      <td>7</td>\n",
       "    </tr>\n",
       "    <tr>\n",
       "      <th>3</th>\n",
       "      <td>Human</td>\n",
       "      <td>Brain</td>\n",
       "      <td>10wpc_Human</td>\n",
       "      <td>ENSG00000001167_Brain</td>\n",
       "      <td>11.265237</td>\n",
       "      <td>7</td>\n",
       "    </tr>\n",
       "    <tr>\n",
       "      <th>4</th>\n",
       "      <td>Human</td>\n",
       "      <td>Brain</td>\n",
       "      <td>10wpc_Human</td>\n",
       "      <td>ENSG00000001461_Brain</td>\n",
       "      <td>7.374965</td>\n",
       "      <td>7</td>\n",
       "    </tr>\n",
       "    <tr>\n",
       "      <th>5</th>\n",
       "      <td>Human</td>\n",
       "      <td>Brain</td>\n",
       "      <td>10wpc_Human</td>\n",
       "      <td>ENSG00000001561_Brain</td>\n",
       "      <td>7.311018</td>\n",
       "      <td>7</td>\n",
       "    </tr>\n",
       "    <tr>\n",
       "      <th>...</th>\n",
       "      <td>...</td>\n",
       "      <td>...</td>\n",
       "      <td>...</td>\n",
       "      <td>...</td>\n",
       "      <td>...</td>\n",
       "      <td>...</td>\n",
       "    </tr>\n",
       "    <tr>\n",
       "      <th>3193836</th>\n",
       "      <td>Human</td>\n",
       "      <td>Testis</td>\n",
       "      <td>youngMidAge_Human</td>\n",
       "      <td>ENSG00000271503_Testis</td>\n",
       "      <td>1.178014</td>\n",
       "      <td>21</td>\n",
       "    </tr>\n",
       "    <tr>\n",
       "      <th>3193837</th>\n",
       "      <td>Human</td>\n",
       "      <td>Testis</td>\n",
       "      <td>youngMidAge_Human</td>\n",
       "      <td>ENSG00000271601_Testis</td>\n",
       "      <td>1.178014</td>\n",
       "      <td>21</td>\n",
       "    </tr>\n",
       "    <tr>\n",
       "      <th>3193838</th>\n",
       "      <td>Human</td>\n",
       "      <td>Testis</td>\n",
       "      <td>youngMidAge_Human</td>\n",
       "      <td>ENSG00000272442_Testis</td>\n",
       "      <td>4.476201</td>\n",
       "      <td>21</td>\n",
       "    </tr>\n",
       "    <tr>\n",
       "      <th>3193839</th>\n",
       "      <td>Human</td>\n",
       "      <td>Testis</td>\n",
       "      <td>youngMidAge_Human</td>\n",
       "      <td>ENSG00000272886_Testis</td>\n",
       "      <td>1.178014</td>\n",
       "      <td>21</td>\n",
       "    </tr>\n",
       "    <tr>\n",
       "      <th>3193840</th>\n",
       "      <td>Human</td>\n",
       "      <td>Testis</td>\n",
       "      <td>youngMidAge_Human</td>\n",
       "      <td>ENSG00000273079_Testis</td>\n",
       "      <td>8.311393</td>\n",
       "      <td>21</td>\n",
       "    </tr>\n",
       "  </tbody>\n",
       "</table>\n",
       "<p>3193840 rows × 6 columns</p>\n",
       "</div>"
      ],
      "text/plain": [
       "         group    view             sample                 feature      value  \\\n",
       "1        Human   Brain        10wpc_Human   ENSG00000000457_Brain   8.573918   \n",
       "2        Human   Brain        10wpc_Human   ENSG00000001084_Brain   8.875957   \n",
       "3        Human   Brain        10wpc_Human   ENSG00000001167_Brain  11.265237   \n",
       "4        Human   Brain        10wpc_Human   ENSG00000001461_Brain   7.374965   \n",
       "5        Human   Brain        10wpc_Human   ENSG00000001561_Brain   7.311018   \n",
       "...        ...     ...                ...                     ...        ...   \n",
       "3193836  Human  Testis  youngMidAge_Human  ENSG00000271503_Testis   1.178014   \n",
       "3193837  Human  Testis  youngMidAge_Human  ENSG00000271601_Testis   1.178014   \n",
       "3193838  Human  Testis  youngMidAge_Human  ENSG00000272442_Testis   4.476201   \n",
       "3193839  Human  Testis  youngMidAge_Human  ENSG00000272886_Testis   1.178014   \n",
       "3193840  Human  Testis  youngMidAge_Human  ENSG00000273079_Testis   8.311393   \n",
       "\n",
       "         time  \n",
       "1           7  \n",
       "2           7  \n",
       "3           7  \n",
       "4           7  \n",
       "5           7  \n",
       "...       ...  \n",
       "3193836    21  \n",
       "3193837    21  \n",
       "3193838    21  \n",
       "3193839    21  \n",
       "3193840    21  \n",
       "\n",
       "[3193840 rows x 6 columns]"
      ]
     },
     "execution_count": 4,
     "metadata": {},
     "output_type": "execute_result"
    }
   ],
   "source": [
    "data = pd.read_csv(f\"{datadir}/evodevo.csv\", sep=\",\", index_col=0)\n",
    "data"
   ]
  },
  {
   "cell_type": "markdown",
   "metadata": {},
   "source": [
    "First, we create a collection of AnnData objects from this dataframe, one for each organ."
   ]
  },
  {
   "cell_type": "code",
   "execution_count": 5,
   "metadata": {},
   "outputs": [],
   "source": [
    "tt = data[data.view == 'Brain'].pivot(index=['group','sample'], columns='feature', values='value')"
   ]
  },
  {
   "cell_type": "code",
   "execution_count": 6,
   "metadata": {},
   "outputs": [
    {
     "data": {
      "text/html": [
       "<div>\n",
       "<style scoped>\n",
       "    .dataframe tbody tr th:only-of-type {\n",
       "        vertical-align: middle;\n",
       "    }\n",
       "\n",
       "    .dataframe tbody tr th {\n",
       "        vertical-align: top;\n",
       "    }\n",
       "\n",
       "    .dataframe thead th {\n",
       "        text-align: right;\n",
       "    }\n",
       "</style>\n",
       "<table border=\"1\" class=\"dataframe\">\n",
       "  <thead>\n",
       "    <tr style=\"text-align: right;\">\n",
       "      <th>feature</th>\n",
       "      <th>ENSG00000000457_Brain</th>\n",
       "      <th>ENSG00000001084_Brain</th>\n",
       "      <th>ENSG00000001167_Brain</th>\n",
       "      <th>ENSG00000001461_Brain</th>\n",
       "      <th>ENSG00000001561_Brain</th>\n",
       "      <th>ENSG00000001617_Brain</th>\n",
       "      <th>ENSG00000001629_Brain</th>\n",
       "      <th>ENSG00000001631_Brain</th>\n",
       "      <th>ENSG00000002549_Brain</th>\n",
       "      <th>ENSG00000002745_Brain</th>\n",
       "      <th>...</th>\n",
       "      <th>ENSG00000267909_Brain</th>\n",
       "      <th>ENSG00000268104_Brain</th>\n",
       "      <th>ENSG00000269058_Brain</th>\n",
       "      <th>ENSG00000270885_Brain</th>\n",
       "      <th>ENSG00000271092_Brain</th>\n",
       "      <th>ENSG00000271503_Brain</th>\n",
       "      <th>ENSG00000271601_Brain</th>\n",
       "      <th>ENSG00000272442_Brain</th>\n",
       "      <th>ENSG00000272886_Brain</th>\n",
       "      <th>ENSG00000273079_Brain</th>\n",
       "    </tr>\n",
       "    <tr>\n",
       "      <th>sample</th>\n",
       "      <th></th>\n",
       "      <th></th>\n",
       "      <th></th>\n",
       "      <th></th>\n",
       "      <th></th>\n",
       "      <th></th>\n",
       "      <th></th>\n",
       "      <th></th>\n",
       "      <th></th>\n",
       "      <th></th>\n",
       "      <th></th>\n",
       "      <th></th>\n",
       "      <th></th>\n",
       "      <th></th>\n",
       "      <th></th>\n",
       "      <th></th>\n",
       "      <th></th>\n",
       "      <th></th>\n",
       "      <th></th>\n",
       "      <th></th>\n",
       "      <th></th>\n",
       "    </tr>\n",
       "  </thead>\n",
       "  <tbody>\n",
       "    <tr>\n",
       "      <th>10wpc_Human</th>\n",
       "      <td>8.573918</td>\n",
       "      <td>8.875957</td>\n",
       "      <td>11.265237</td>\n",
       "      <td>7.374965</td>\n",
       "      <td>7.311018</td>\n",
       "      <td>9.959839</td>\n",
       "      <td>10.542619</td>\n",
       "      <td>9.692082</td>\n",
       "      <td>9.180280</td>\n",
       "      <td>4.281878</td>\n",
       "      <td>...</td>\n",
       "      <td>7.221091</td>\n",
       "      <td>1.178014</td>\n",
       "      <td>1.178014</td>\n",
       "      <td>1.178014</td>\n",
       "      <td>1.178014</td>\n",
       "      <td>1.178014</td>\n",
       "      <td>1.178014</td>\n",
       "      <td>1.178014</td>\n",
       "      <td>1.178014</td>\n",
       "      <td>11.746150</td>\n",
       "    </tr>\n",
       "    <tr>\n",
       "      <th>11wpc_Human</th>\n",
       "      <td>8.439675</td>\n",
       "      <td>8.737682</td>\n",
       "      <td>10.855314</td>\n",
       "      <td>8.066544</td>\n",
       "      <td>7.354726</td>\n",
       "      <td>10.431113</td>\n",
       "      <td>10.308780</td>\n",
       "      <td>9.242115</td>\n",
       "      <td>9.350255</td>\n",
       "      <td>3.363064</td>\n",
       "      <td>...</td>\n",
       "      <td>7.116983</td>\n",
       "      <td>1.178014</td>\n",
       "      <td>1.178014</td>\n",
       "      <td>1.178014</td>\n",
       "      <td>1.178014</td>\n",
       "      <td>1.178014</td>\n",
       "      <td>1.178014</td>\n",
       "      <td>1.421384</td>\n",
       "      <td>1.178014</td>\n",
       "      <td>11.281600</td>\n",
       "    </tr>\n",
       "    <tr>\n",
       "      <th>12wpc_Human</th>\n",
       "      <td>8.399178</td>\n",
       "      <td>8.916387</td>\n",
       "      <td>12.555510</td>\n",
       "      <td>9.253555</td>\n",
       "      <td>8.763702</td>\n",
       "      <td>9.946536</td>\n",
       "      <td>11.530929</td>\n",
       "      <td>10.033949</td>\n",
       "      <td>9.278142</td>\n",
       "      <td>4.322361</td>\n",
       "      <td>...</td>\n",
       "      <td>4.000716</td>\n",
       "      <td>1.178014</td>\n",
       "      <td>1.178014</td>\n",
       "      <td>1.178014</td>\n",
       "      <td>1.178014</td>\n",
       "      <td>1.178014</td>\n",
       "      <td>1.178014</td>\n",
       "      <td>2.664630</td>\n",
       "      <td>1.178014</td>\n",
       "      <td>13.976460</td>\n",
       "    </tr>\n",
       "    <tr>\n",
       "      <th>13wpc_Human</th>\n",
       "      <td>8.637347</td>\n",
       "      <td>8.831740</td>\n",
       "      <td>10.916489</td>\n",
       "      <td>9.190959</td>\n",
       "      <td>8.158240</td>\n",
       "      <td>10.279600</td>\n",
       "      <td>11.287268</td>\n",
       "      <td>9.510370</td>\n",
       "      <td>9.033614</td>\n",
       "      <td>4.784136</td>\n",
       "      <td>...</td>\n",
       "      <td>5.635512</td>\n",
       "      <td>1.178014</td>\n",
       "      <td>1.481758</td>\n",
       "      <td>1.178014</td>\n",
       "      <td>1.178014</td>\n",
       "      <td>1.178014</td>\n",
       "      <td>1.178014</td>\n",
       "      <td>1.776655</td>\n",
       "      <td>1.178014</td>\n",
       "      <td>12.473490</td>\n",
       "    </tr>\n",
       "    <tr>\n",
       "      <th>16wpc_Human</th>\n",
       "      <td>8.525125</td>\n",
       "      <td>8.575862</td>\n",
       "      <td>11.271736</td>\n",
       "      <td>8.177629</td>\n",
       "      <td>7.857303</td>\n",
       "      <td>10.363036</td>\n",
       "      <td>11.402954</td>\n",
       "      <td>9.523244</td>\n",
       "      <td>8.833177</td>\n",
       "      <td>2.785827</td>\n",
       "      <td>...</td>\n",
       "      <td>6.119527</td>\n",
       "      <td>1.178014</td>\n",
       "      <td>1.178014</td>\n",
       "      <td>1.178014</td>\n",
       "      <td>1.178014</td>\n",
       "      <td>1.178014</td>\n",
       "      <td>1.178014</td>\n",
       "      <td>2.413222</td>\n",
       "      <td>1.178014</td>\n",
       "      <td>13.738050</td>\n",
       "    </tr>\n",
       "    <tr>\n",
       "      <th>...</th>\n",
       "      <td>...</td>\n",
       "      <td>...</td>\n",
       "      <td>...</td>\n",
       "      <td>...</td>\n",
       "      <td>...</td>\n",
       "      <td>...</td>\n",
       "      <td>...</td>\n",
       "      <td>...</td>\n",
       "      <td>...</td>\n",
       "      <td>...</td>\n",
       "      <td>...</td>\n",
       "      <td>...</td>\n",
       "      <td>...</td>\n",
       "      <td>...</td>\n",
       "      <td>...</td>\n",
       "      <td>...</td>\n",
       "      <td>...</td>\n",
       "      <td>...</td>\n",
       "      <td>...</td>\n",
       "      <td>...</td>\n",
       "      <td>...</td>\n",
       "    </tr>\n",
       "    <tr>\n",
       "      <th>e16_Rat</th>\n",
       "      <td>8.376069</td>\n",
       "      <td>10.116910</td>\n",
       "      <td>9.817295</td>\n",
       "      <td>7.547978</td>\n",
       "      <td>7.494774</td>\n",
       "      <td>9.942880</td>\n",
       "      <td>10.754940</td>\n",
       "      <td>10.235290</td>\n",
       "      <td>9.615162</td>\n",
       "      <td>4.295448</td>\n",
       "      <td>...</td>\n",
       "      <td>7.262314</td>\n",
       "      <td>1.874587</td>\n",
       "      <td>5.056773</td>\n",
       "      <td>1.117998</td>\n",
       "      <td>6.531003</td>\n",
       "      <td>2.198333</td>\n",
       "      <td>11.717740</td>\n",
       "      <td>9.850825</td>\n",
       "      <td>8.869278</td>\n",
       "      <td>9.230367</td>\n",
       "    </tr>\n",
       "    <tr>\n",
       "      <th>e17_Rat</th>\n",
       "      <td>8.565662</td>\n",
       "      <td>10.135640</td>\n",
       "      <td>9.855783</td>\n",
       "      <td>7.091983</td>\n",
       "      <td>7.324568</td>\n",
       "      <td>9.908100</td>\n",
       "      <td>10.863260</td>\n",
       "      <td>10.382240</td>\n",
       "      <td>9.686985</td>\n",
       "      <td>3.694717</td>\n",
       "      <td>...</td>\n",
       "      <td>7.406131</td>\n",
       "      <td>1.436062</td>\n",
       "      <td>5.038862</td>\n",
       "      <td>1.117998</td>\n",
       "      <td>6.327759</td>\n",
       "      <td>1.397909</td>\n",
       "      <td>11.697670</td>\n",
       "      <td>9.914657</td>\n",
       "      <td>8.741507</td>\n",
       "      <td>8.133762</td>\n",
       "    </tr>\n",
       "    <tr>\n",
       "      <th>e18_Rat</th>\n",
       "      <td>8.535613</td>\n",
       "      <td>10.161520</td>\n",
       "      <td>10.002510</td>\n",
       "      <td>6.962930</td>\n",
       "      <td>7.826152</td>\n",
       "      <td>9.984483</td>\n",
       "      <td>11.153140</td>\n",
       "      <td>10.280180</td>\n",
       "      <td>9.614488</td>\n",
       "      <td>5.023464</td>\n",
       "      <td>...</td>\n",
       "      <td>6.400935</td>\n",
       "      <td>1.117998</td>\n",
       "      <td>5.318386</td>\n",
       "      <td>1.117998</td>\n",
       "      <td>7.289872</td>\n",
       "      <td>1.829859</td>\n",
       "      <td>11.789560</td>\n",
       "      <td>9.812600</td>\n",
       "      <td>9.010810</td>\n",
       "      <td>10.487180</td>\n",
       "    </tr>\n",
       "    <tr>\n",
       "      <th>e19_Rat</th>\n",
       "      <td>8.647557</td>\n",
       "      <td>10.210530</td>\n",
       "      <td>9.929732</td>\n",
       "      <td>7.405138</td>\n",
       "      <td>7.690958</td>\n",
       "      <td>10.302840</td>\n",
       "      <td>11.215820</td>\n",
       "      <td>10.394190</td>\n",
       "      <td>9.598997</td>\n",
       "      <td>5.439916</td>\n",
       "      <td>...</td>\n",
       "      <td>7.427492</td>\n",
       "      <td>1.296756</td>\n",
       "      <td>5.557324</td>\n",
       "      <td>1.389604</td>\n",
       "      <td>7.657069</td>\n",
       "      <td>1.862952</td>\n",
       "      <td>11.687530</td>\n",
       "      <td>9.998150</td>\n",
       "      <td>8.380113</td>\n",
       "      <td>9.568594</td>\n",
       "    </tr>\n",
       "    <tr>\n",
       "      <th>e20_Rat</th>\n",
       "      <td>8.580514</td>\n",
       "      <td>10.170800</td>\n",
       "      <td>9.856243</td>\n",
       "      <td>7.821672</td>\n",
       "      <td>7.871427</td>\n",
       "      <td>10.429220</td>\n",
       "      <td>11.198730</td>\n",
       "      <td>10.291220</td>\n",
       "      <td>9.535672</td>\n",
       "      <td>5.464768</td>\n",
       "      <td>...</td>\n",
       "      <td>7.589981</td>\n",
       "      <td>1.474167</td>\n",
       "      <td>5.216198</td>\n",
       "      <td>1.117998</td>\n",
       "      <td>7.906778</td>\n",
       "      <td>1.900201</td>\n",
       "      <td>11.498370</td>\n",
       "      <td>10.023170</td>\n",
       "      <td>8.762974</td>\n",
       "      <td>9.775311</td>\n",
       "    </tr>\n",
       "  </tbody>\n",
       "</table>\n",
       "<p>83 rows × 7696 columns</p>\n",
       "</div>"
      ],
      "text/plain": [
       "feature      ENSG00000000457_Brain  ENSG00000001084_Brain  \\\n",
       "sample                                                      \n",
       "10wpc_Human               8.573918               8.875957   \n",
       "11wpc_Human               8.439675               8.737682   \n",
       "12wpc_Human               8.399178               8.916387   \n",
       "13wpc_Human               8.637347               8.831740   \n",
       "16wpc_Human               8.525125               8.575862   \n",
       "...                            ...                    ...   \n",
       "e16_Rat                   8.376069              10.116910   \n",
       "e17_Rat                   8.565662              10.135640   \n",
       "e18_Rat                   8.535613              10.161520   \n",
       "e19_Rat                   8.647557              10.210530   \n",
       "e20_Rat                   8.580514              10.170800   \n",
       "\n",
       "feature      ENSG00000001167_Brain  ENSG00000001461_Brain  \\\n",
       "sample                                                      \n",
       "10wpc_Human              11.265237               7.374965   \n",
       "11wpc_Human              10.855314               8.066544   \n",
       "12wpc_Human              12.555510               9.253555   \n",
       "13wpc_Human              10.916489               9.190959   \n",
       "16wpc_Human              11.271736               8.177629   \n",
       "...                            ...                    ...   \n",
       "e16_Rat                   9.817295               7.547978   \n",
       "e17_Rat                   9.855783               7.091983   \n",
       "e18_Rat                  10.002510               6.962930   \n",
       "e19_Rat                   9.929732               7.405138   \n",
       "e20_Rat                   9.856243               7.821672   \n",
       "\n",
       "feature      ENSG00000001561_Brain  ENSG00000001617_Brain  \\\n",
       "sample                                                      \n",
       "10wpc_Human               7.311018               9.959839   \n",
       "11wpc_Human               7.354726              10.431113   \n",
       "12wpc_Human               8.763702               9.946536   \n",
       "13wpc_Human               8.158240              10.279600   \n",
       "16wpc_Human               7.857303              10.363036   \n",
       "...                            ...                    ...   \n",
       "e16_Rat                   7.494774               9.942880   \n",
       "e17_Rat                   7.324568               9.908100   \n",
       "e18_Rat                   7.826152               9.984483   \n",
       "e19_Rat                   7.690958              10.302840   \n",
       "e20_Rat                   7.871427              10.429220   \n",
       "\n",
       "feature      ENSG00000001629_Brain  ENSG00000001631_Brain  \\\n",
       "sample                                                      \n",
       "10wpc_Human              10.542619               9.692082   \n",
       "11wpc_Human              10.308780               9.242115   \n",
       "12wpc_Human              11.530929              10.033949   \n",
       "13wpc_Human              11.287268               9.510370   \n",
       "16wpc_Human              11.402954               9.523244   \n",
       "...                            ...                    ...   \n",
       "e16_Rat                  10.754940              10.235290   \n",
       "e17_Rat                  10.863260              10.382240   \n",
       "e18_Rat                  11.153140              10.280180   \n",
       "e19_Rat                  11.215820              10.394190   \n",
       "e20_Rat                  11.198730              10.291220   \n",
       "\n",
       "feature      ENSG00000002549_Brain  ENSG00000002745_Brain  ...  \\\n",
       "sample                                                     ...   \n",
       "10wpc_Human               9.180280               4.281878  ...   \n",
       "11wpc_Human               9.350255               3.363064  ...   \n",
       "12wpc_Human               9.278142               4.322361  ...   \n",
       "13wpc_Human               9.033614               4.784136  ...   \n",
       "16wpc_Human               8.833177               2.785827  ...   \n",
       "...                            ...                    ...  ...   \n",
       "e16_Rat                   9.615162               4.295448  ...   \n",
       "e17_Rat                   9.686985               3.694717  ...   \n",
       "e18_Rat                   9.614488               5.023464  ...   \n",
       "e19_Rat                   9.598997               5.439916  ...   \n",
       "e20_Rat                   9.535672               5.464768  ...   \n",
       "\n",
       "feature      ENSG00000267909_Brain  ENSG00000268104_Brain  \\\n",
       "sample                                                      \n",
       "10wpc_Human               7.221091               1.178014   \n",
       "11wpc_Human               7.116983               1.178014   \n",
       "12wpc_Human               4.000716               1.178014   \n",
       "13wpc_Human               5.635512               1.178014   \n",
       "16wpc_Human               6.119527               1.178014   \n",
       "...                            ...                    ...   \n",
       "e16_Rat                   7.262314               1.874587   \n",
       "e17_Rat                   7.406131               1.436062   \n",
       "e18_Rat                   6.400935               1.117998   \n",
       "e19_Rat                   7.427492               1.296756   \n",
       "e20_Rat                   7.589981               1.474167   \n",
       "\n",
       "feature      ENSG00000269058_Brain  ENSG00000270885_Brain  \\\n",
       "sample                                                      \n",
       "10wpc_Human               1.178014               1.178014   \n",
       "11wpc_Human               1.178014               1.178014   \n",
       "12wpc_Human               1.178014               1.178014   \n",
       "13wpc_Human               1.481758               1.178014   \n",
       "16wpc_Human               1.178014               1.178014   \n",
       "...                            ...                    ...   \n",
       "e16_Rat                   5.056773               1.117998   \n",
       "e17_Rat                   5.038862               1.117998   \n",
       "e18_Rat                   5.318386               1.117998   \n",
       "e19_Rat                   5.557324               1.389604   \n",
       "e20_Rat                   5.216198               1.117998   \n",
       "\n",
       "feature      ENSG00000271092_Brain  ENSG00000271503_Brain  \\\n",
       "sample                                                      \n",
       "10wpc_Human               1.178014               1.178014   \n",
       "11wpc_Human               1.178014               1.178014   \n",
       "12wpc_Human               1.178014               1.178014   \n",
       "13wpc_Human               1.178014               1.178014   \n",
       "16wpc_Human               1.178014               1.178014   \n",
       "...                            ...                    ...   \n",
       "e16_Rat                   6.531003               2.198333   \n",
       "e17_Rat                   6.327759               1.397909   \n",
       "e18_Rat                   7.289872               1.829859   \n",
       "e19_Rat                   7.657069               1.862952   \n",
       "e20_Rat                   7.906778               1.900201   \n",
       "\n",
       "feature      ENSG00000271601_Brain  ENSG00000272442_Brain  \\\n",
       "sample                                                      \n",
       "10wpc_Human               1.178014               1.178014   \n",
       "11wpc_Human               1.178014               1.421384   \n",
       "12wpc_Human               1.178014               2.664630   \n",
       "13wpc_Human               1.178014               1.776655   \n",
       "16wpc_Human               1.178014               2.413222   \n",
       "...                            ...                    ...   \n",
       "e16_Rat                  11.717740               9.850825   \n",
       "e17_Rat                  11.697670               9.914657   \n",
       "e18_Rat                  11.789560               9.812600   \n",
       "e19_Rat                  11.687530               9.998150   \n",
       "e20_Rat                  11.498370              10.023170   \n",
       "\n",
       "feature      ENSG00000272886_Brain  ENSG00000273079_Brain  \n",
       "sample                                                     \n",
       "10wpc_Human               1.178014              11.746150  \n",
       "11wpc_Human               1.178014              11.281600  \n",
       "12wpc_Human               1.178014              13.976460  \n",
       "13wpc_Human               1.178014              12.473490  \n",
       "16wpc_Human               1.178014              13.738050  \n",
       "...                            ...                    ...  \n",
       "e16_Rat                   8.869278               9.230367  \n",
       "e17_Rat                   8.741507               8.133762  \n",
       "e18_Rat                   9.010810              10.487180  \n",
       "e19_Rat                   8.380113               9.568594  \n",
       "e20_Rat                   8.762974               9.775311  \n",
       "\n",
       "[83 rows x 7696 columns]"
      ]
     },
     "execution_count": 6,
     "metadata": {},
     "output_type": "execute_result"
    }
   ],
   "source": [
    "tt.set_index(tt.index.droplevel(level=0))"
   ]
  },
  {
   "cell_type": "code",
   "execution_count": 7,
   "metadata": {},
   "outputs": [
    {
     "data": {
      "text/plain": [
       "{'Brain': AnnData object with n_obs × n_vars = 83 × 7696,\n",
       " 'Cerebellum': AnnData object with n_obs × n_vars = 83 × 7696,\n",
       " 'Heart': AnnData object with n_obs × n_vars = 83 × 7696,\n",
       " 'Liver': AnnData object with n_obs × n_vars = 83 × 7696,\n",
       " 'Testis': AnnData object with n_obs × n_vars = 83 × 7696}"
      ]
     },
     "execution_count": 7,
     "metadata": {},
     "output_type": "execute_result"
    }
   ],
   "source": [
    "# Note: resorting by groups here before setting sample as index\n",
    "# muon interface to mofa does not maintain the right samples_names and samples_groups \n",
    "# correspondences if groups are not listed sequentially in the samples of the AnnData objects\n",
    "\n",
    "views = (data['view']).unique()\n",
    "data_list = [data[data.view == m].pivot(index=['group','sample'], columns='feature', values='value') for m in views]\n",
    "data_list = [dd.set_index(dd.index.droplevel(level=0)) for dd in data_list]\n",
    "mods = {views[m]:sc.AnnData(data_list[m]) for m in range(len(views))}\n",
    "mods"
   ]
  },
  {
   "cell_type": "markdown",
   "metadata": {},
   "source": [
    "In addition, we keep the meta data for each sample, containing the developmental time points."
   ]
  },
  {
   "cell_type": "code",
   "execution_count": 8,
   "metadata": {},
   "outputs": [
    {
     "data": {
      "text/html": [
       "<div>\n",
       "<style scoped>\n",
       "    .dataframe tbody tr th:only-of-type {\n",
       "        vertical-align: middle;\n",
       "    }\n",
       "\n",
       "    .dataframe tbody tr th {\n",
       "        vertical-align: top;\n",
       "    }\n",
       "\n",
       "    .dataframe thead th {\n",
       "        text-align: right;\n",
       "    }\n",
       "</style>\n",
       "<table border=\"1\" class=\"dataframe\">\n",
       "  <thead>\n",
       "    <tr style=\"text-align: right;\">\n",
       "      <th></th>\n",
       "      <th>time</th>\n",
       "      <th>species</th>\n",
       "    </tr>\n",
       "    <tr>\n",
       "      <th>sample</th>\n",
       "      <th></th>\n",
       "      <th></th>\n",
       "    </tr>\n",
       "  </thead>\n",
       "  <tbody>\n",
       "    <tr>\n",
       "      <th>10wpc_Human</th>\n",
       "      <td>7</td>\n",
       "      <td>Human</td>\n",
       "    </tr>\n",
       "    <tr>\n",
       "      <th>11wpc_Human</th>\n",
       "      <td>8</td>\n",
       "      <td>Human</td>\n",
       "    </tr>\n",
       "    <tr>\n",
       "      <th>12wpc_Human</th>\n",
       "      <td>9</td>\n",
       "      <td>Human</td>\n",
       "    </tr>\n",
       "    <tr>\n",
       "      <th>13wpc_Human</th>\n",
       "      <td>10</td>\n",
       "      <td>Human</td>\n",
       "    </tr>\n",
       "    <tr>\n",
       "      <th>16wpc_Human</th>\n",
       "      <td>11</td>\n",
       "      <td>Human</td>\n",
       "    </tr>\n",
       "    <tr>\n",
       "      <th>...</th>\n",
       "      <td>...</td>\n",
       "      <td>...</td>\n",
       "    </tr>\n",
       "    <tr>\n",
       "      <th>senior_Human</th>\n",
       "      <td>23</td>\n",
       "      <td>Human</td>\n",
       "    </tr>\n",
       "    <tr>\n",
       "      <th>teenager_Human</th>\n",
       "      <td>19</td>\n",
       "      <td>Human</td>\n",
       "    </tr>\n",
       "    <tr>\n",
       "      <th>toddler_Human</th>\n",
       "      <td>17</td>\n",
       "      <td>Human</td>\n",
       "    </tr>\n",
       "    <tr>\n",
       "      <th>youngAdult_Human</th>\n",
       "      <td>20</td>\n",
       "      <td>Human</td>\n",
       "    </tr>\n",
       "    <tr>\n",
       "      <th>youngMidAge_Human</th>\n",
       "      <td>21</td>\n",
       "      <td>Human</td>\n",
       "    </tr>\n",
       "  </tbody>\n",
       "</table>\n",
       "<p>83 rows × 2 columns</p>\n",
       "</div>"
      ],
      "text/plain": [
       "                   time species\n",
       "sample                         \n",
       "10wpc_Human           7   Human\n",
       "11wpc_Human           8   Human\n",
       "12wpc_Human           9   Human\n",
       "13wpc_Human          10   Human\n",
       "16wpc_Human          11   Human\n",
       "...                 ...     ...\n",
       "senior_Human         23   Human\n",
       "teenager_Human       19   Human\n",
       "toddler_Human        17   Human\n",
       "youngAdult_Human     20   Human\n",
       "youngMidAge_Human    21   Human\n",
       "\n",
       "[83 rows x 2 columns]"
      ]
     },
     "execution_count": 8,
     "metadata": {},
     "output_type": "execute_result"
    }
   ],
   "source": [
    "obs = data[['sample', 'time', 'group']].drop_duplicates()\n",
    "obs.rename(columns = {'group' : 'species'}, inplace = True)\n",
    "obs = obs.set_index('sample') \n",
    "obs"
   ]
  },
  {
   "cell_type": "markdown",
   "metadata": {},
   "source": [
    "We create a muon object"
   ]
  },
  {
   "cell_type": "code",
   "execution_count": 9,
   "metadata": {},
   "outputs": [],
   "source": [
    "mdata = mu.MuData(mods)\n",
    "mdata.obs = mdata.obs.join(obs)"
   ]
  },
  {
   "cell_type": "markdown",
   "metadata": {},
   "source": [
    "This contains both the gene expression data,"
   ]
  },
  {
   "cell_type": "code",
   "execution_count": 10,
   "metadata": {},
   "outputs": [
    {
     "data": {
      "text/plain": [
       "AnnData object with n_obs × n_vars = 83 × 7696"
      ]
     },
     "execution_count": 10,
     "metadata": {},
     "output_type": "execute_result"
    }
   ],
   "source": [
    "mdata\n",
    "mdata['Brain']"
   ]
  },
  {
   "cell_type": "markdown",
   "metadata": {},
   "source": [
    "as well as the sample-level information given by the developmental time points, which are not yet matched for different species."
   ]
  },
  {
   "cell_type": "code",
   "execution_count": 11,
   "metadata": {},
   "outputs": [
    {
     "data": {
      "text/html": [
       "<div>\n",
       "<style scoped>\n",
       "    .dataframe tbody tr th:only-of-type {\n",
       "        vertical-align: middle;\n",
       "    }\n",
       "\n",
       "    .dataframe tbody tr th {\n",
       "        vertical-align: top;\n",
       "    }\n",
       "\n",
       "    .dataframe thead th {\n",
       "        text-align: right;\n",
       "    }\n",
       "</style>\n",
       "<table border=\"1\" class=\"dataframe\">\n",
       "  <thead>\n",
       "    <tr style=\"text-align: right;\">\n",
       "      <th></th>\n",
       "      <th>time</th>\n",
       "      <th>species</th>\n",
       "    </tr>\n",
       "    <tr>\n",
       "      <th>sample</th>\n",
       "      <th></th>\n",
       "      <th></th>\n",
       "    </tr>\n",
       "  </thead>\n",
       "  <tbody>\n",
       "    <tr>\n",
       "      <th>10wpc_Human</th>\n",
       "      <td>7</td>\n",
       "      <td>Human</td>\n",
       "    </tr>\n",
       "    <tr>\n",
       "      <th>11wpc_Human</th>\n",
       "      <td>8</td>\n",
       "      <td>Human</td>\n",
       "    </tr>\n",
       "    <tr>\n",
       "      <th>12wpc_Human</th>\n",
       "      <td>9</td>\n",
       "      <td>Human</td>\n",
       "    </tr>\n",
       "    <tr>\n",
       "      <th>13wpc_Human</th>\n",
       "      <td>10</td>\n",
       "      <td>Human</td>\n",
       "    </tr>\n",
       "    <tr>\n",
       "      <th>16wpc_Human</th>\n",
       "      <td>11</td>\n",
       "      <td>Human</td>\n",
       "    </tr>\n",
       "    <tr>\n",
       "      <th>...</th>\n",
       "      <td>...</td>\n",
       "      <td>...</td>\n",
       "    </tr>\n",
       "    <tr>\n",
       "      <th>e16_Rat</th>\n",
       "      <td>6</td>\n",
       "      <td>Rat</td>\n",
       "    </tr>\n",
       "    <tr>\n",
       "      <th>e17_Rat</th>\n",
       "      <td>7</td>\n",
       "      <td>Rat</td>\n",
       "    </tr>\n",
       "    <tr>\n",
       "      <th>e18_Rat</th>\n",
       "      <td>8</td>\n",
       "      <td>Rat</td>\n",
       "    </tr>\n",
       "    <tr>\n",
       "      <th>e19_Rat</th>\n",
       "      <td>9</td>\n",
       "      <td>Rat</td>\n",
       "    </tr>\n",
       "    <tr>\n",
       "      <th>e20_Rat</th>\n",
       "      <td>10</td>\n",
       "      <td>Rat</td>\n",
       "    </tr>\n",
       "  </tbody>\n",
       "</table>\n",
       "<p>83 rows × 2 columns</p>\n",
       "</div>"
      ],
      "text/plain": [
       "             time species\n",
       "sample                   \n",
       "10wpc_Human     7   Human\n",
       "11wpc_Human     8   Human\n",
       "12wpc_Human     9   Human\n",
       "13wpc_Human    10   Human\n",
       "16wpc_Human    11   Human\n",
       "...           ...     ...\n",
       "e16_Rat         6     Rat\n",
       "e17_Rat         7     Rat\n",
       "e18_Rat         8     Rat\n",
       "e19_Rat         9     Rat\n",
       "e20_Rat        10     Rat\n",
       "\n",
       "[83 rows x 2 columns]"
      ]
     },
     "execution_count": 11,
     "metadata": {},
     "output_type": "execute_result"
    }
   ],
   "source": [
    "mdata.obs"
   ]
  },
  {
   "cell_type": "markdown",
   "metadata": {},
   "source": [
    "## Integrate data"
   ]
  },
  {
   "cell_type": "markdown",
   "metadata": {},
   "source": [
    "MEFISTO can be run on a MuData using the mofa command and specifying the time information to use.\n",
    "\n",
    "We will fill missing samples in certain modalities with NAs by using use_obs='union'.\n",
    "\n",
    "We specify to use the species as groups.\n",
    "\n",
    "As we want to incorporate the time information we specify which column in the metadata to use as covariate for mefisto (\"time\").\n",
    "\n",
    "In addition, we tell the model that we want to learn an alignment of the time points from different species by setting mefisto_warping to True and using Mouse as reference.\n",
    "\n",
    "For illustration, we only use a small number of training iterations."
   ]
  },
  {
   "cell_type": "code",
   "execution_count": 12,
   "metadata": {},
   "outputs": [
    {
     "data": {
      "text/plain": [
       "1"
      ]
     },
     "execution_count": 12,
     "metadata": {},
     "output_type": "execute_result"
    }
   ],
   "source": [
    "ref_species = np.where(mdata.obs['species'].unique() == \"Mouse\")[0]\n",
    "ref_species = ref_species.item()\n",
    "ref_species"
   ]
  },
  {
   "cell_type": "code",
   "execution_count": 13,
   "metadata": {},
   "outputs": [
    {
     "name": "stdout",
     "output_type": "stream",
     "text": [
      "\n",
      "        #########################################################\n",
      "        ###           __  __  ____  ______                    ### \n",
      "        ###          |  \\/  |/ __ \\|  ____/\\    _             ### \n",
      "        ###          | \\  / | |  | | |__ /  \\ _| |_           ### \n",
      "        ###          | |\\/| | |  | |  __/ /\\ \\_   _|          ###\n",
      "        ###          | |  | | |__| | | / ____ \\|_|            ###\n",
      "        ###          |_|  |_|\\____/|_|/_/    \\_\\              ###\n",
      "        ###                                                   ### \n",
      "        ######################################################### \n",
      "       \n",
      " \n",
      "        \n",
      "Loaded view='Brain' group='Human' with N=23 samples and D=7696 features...\n",
      "Loaded view='Brain' group='Mouse' with N=14 samples and D=7696 features...\n",
      "Loaded view='Brain' group='Opossum' with N=15 samples and D=7696 features...\n",
      "Loaded view='Brain' group='Rabbit' with N=15 samples and D=7696 features...\n",
      "Loaded view='Brain' group='Rat' with N=16 samples and D=7696 features...\n",
      "Loaded view='Cerebellum' group='Human' with N=23 samples and D=7696 features...\n",
      "Loaded view='Cerebellum' group='Mouse' with N=14 samples and D=7696 features...\n",
      "Loaded view='Cerebellum' group='Opossum' with N=15 samples and D=7696 features...\n",
      "Loaded view='Cerebellum' group='Rabbit' with N=15 samples and D=7696 features...\n",
      "Loaded view='Cerebellum' group='Rat' with N=16 samples and D=7696 features...\n",
      "Loaded view='Heart' group='Human' with N=23 samples and D=7696 features...\n",
      "Loaded view='Heart' group='Mouse' with N=14 samples and D=7696 features...\n",
      "Loaded view='Heart' group='Opossum' with N=15 samples and D=7696 features...\n",
      "Loaded view='Heart' group='Rabbit' with N=15 samples and D=7696 features...\n",
      "Loaded view='Heart' group='Rat' with N=16 samples and D=7696 features...\n",
      "Loaded view='Liver' group='Human' with N=23 samples and D=7696 features...\n",
      "Loaded view='Liver' group='Mouse' with N=14 samples and D=7696 features...\n",
      "Loaded view='Liver' group='Opossum' with N=15 samples and D=7696 features...\n",
      "Loaded view='Liver' group='Rabbit' with N=15 samples and D=7696 features...\n",
      "Loaded view='Liver' group='Rat' with N=16 samples and D=7696 features...\n",
      "Loaded view='Testis' group='Human' with N=23 samples and D=7696 features...\n",
      "Loaded view='Testis' group='Mouse' with N=14 samples and D=7696 features...\n",
      "Loaded view='Testis' group='Opossum' with N=15 samples and D=7696 features...\n",
      "Loaded view='Testis' group='Rabbit' with N=15 samples and D=7696 features...\n",
      "Loaded view='Testis' group='Rat' with N=16 samples and D=7696 features...\n",
      "\n",
      "\n",
      "Model options:\n",
      "- Automatic Relevance Determination prior on the factors: True\n",
      "- Automatic Relevance Determination prior on the weights: True\n",
      "- Spike-and-slab prior on the factors: False\n",
      "- Spike-and-slab prior on the weights: True\n",
      "Likelihoods:\n",
      "- View 0 (Brain): gaussian\n",
      "- View 1 (Cerebellum): gaussian\n",
      "- View 2 (Heart): gaussian\n",
      "- View 3 (Liver): gaussian\n",
      "- View 4 (Testis): gaussian\n",
      "\n",
      "\n",
      "Loaded 1 covariate(s) for each sample...\n",
      "\n",
      "\n",
      "Smooth covariate framework is activated. This is not compatible with ARD prior on factors. Setting ard_factors to False...\n",
      "\n",
      "##\n",
      "## Warping set to True: aligning the covariates across groups\n",
      "##\n",
      "\n",
      "\n",
      "######################################\n",
      "## Training the model with seed 1 ##\n",
      "######################################\n",
      "\n",
      "\n",
      "Importing the dtw module. When using in academic works please cite:\n",
      "  T. Giorgino. Computing and Visualizing Dynamic Time Warping Alignments in R: The dtw Package.\n",
      "  J. Stat. Soft., doi:10.18637/jss.v031.i07.\n",
      "\n",
      "Covariates were aligned between groups.\n",
      "Optimising sigma node...\n",
      "Sigma node has been optimised:\n",
      "- Lengthscales = [2.14, 1.15, 1.41, 2.14, 1.15] \n",
      "- Scale = [0.88, 0.82, 0.88, 0.95, 0.84]\n",
      "\n",
      "\n",
      "#######################\n",
      "## Training finished ##\n",
      "#######################\n",
      "\n",
      "\n",
      "Warning: Output file models/mefisto_evodevo.hdf5 already exists, it will be replaced\n",
      "Saving model in models/mefisto_evodevo.hdf5...\n",
      "Saved MOFA embeddings in .obsm['X_mofa'] slot and their loadings in .varm['LFs'].\n"
     ]
    }
   ],
   "source": [
    "mu.tl.mofa(mdata, use_obs='union', \n",
    "           groups_label=\"species\",\n",
    "           n_factors=5, \n",
    "           mefisto_covariate = 'time',\n",
    "           mefisto_warping = True,\n",
    "           mefisto_warping_ref = ref_species,\n",
    "           outfile=\"models/mefisto_evodevo.hdf5\",\n",
    "           n_iterations = 25)"
   ]
  },
  {
   "cell_type": "markdown",
   "metadata": {},
   "source": [
    "## Visualization in the factor space"
   ]
  },
  {
   "cell_type": "markdown",
   "metadata": {},
   "source": [
    "Let's take a look at the decomposition learnt by the model."
   ]
  },
  {
   "cell_type": "code",
   "execution_count": 14,
   "metadata": {},
   "outputs": [
    {
     "name": "stderr",
     "output_type": "stream",
     "text": [
      "... storing 'species' as categorical\n",
      "WARNING:matplotlib.axes._axes:*c* argument looks like a single numeric RGB or RGBA sequence, which should be avoided as value-mapping will have precedence in case its length matches with *x* & *y*.  Please use the *color* keyword-argument or provide a 2-D array with a single row if you intend to specify the same RGB or RGBA value for all points.\n",
      "WARNING:matplotlib.axes._axes:*c* argument looks like a single numeric RGB or RGBA sequence, which should be avoided as value-mapping will have precedence in case its length matches with *x* & *y*.  Please use the *color* keyword-argument or provide a 2-D array with a single row if you intend to specify the same RGB or RGBA value for all points.\n",
      "WARNING:matplotlib.axes._axes:*c* argument looks like a single numeric RGB or RGBA sequence, which should be avoided as value-mapping will have precedence in case its length matches with *x* & *y*.  Please use the *color* keyword-argument or provide a 2-D array with a single row if you intend to specify the same RGB or RGBA value for all points.\n",
      "WARNING:matplotlib.axes._axes:*c* argument looks like a single numeric RGB or RGBA sequence, which should be avoided as value-mapping will have precedence in case its length matches with *x* & *y*.  Please use the *color* keyword-argument or provide a 2-D array with a single row if you intend to specify the same RGB or RGBA value for all points.\n",
      "WARNING:matplotlib.axes._axes:*c* argument looks like a single numeric RGB or RGBA sequence, which should be avoided as value-mapping will have precedence in case its length matches with *x* & *y*.  Please use the *color* keyword-argument or provide a 2-D array with a single row if you intend to specify the same RGB or RGBA value for all points.\n"
     ]
    },
    {
     "data": {
      "image/png": "[encoded data removed]",
      "text/plain": [
       "<Figure size 432x288 with 1 Axes>"
      ]
     },
     "metadata": {},
     "output_type": "display_data"
    }
   ],
   "source": [
    "mu.pl.mofa(mdata, color=\"species\", size = 250)"
   ]
  },
  {
   "cell_type": "code",
   "execution_count": 15,
   "metadata": {},
   "outputs": [
    {
     "name": "stderr",
     "output_type": "stream",
     "text": [
      "... storing 'species' as categorical\n"
     ]
    },
    {
     "data": {
      "image/png": "[encoded data removed]",
      "text/plain": [
       "<Figure size 432x288 with 2 Axes>"
      ]
     },
     "metadata": {
      "needs_background": "light"
     },
     "output_type": "display_data"
    }
   ],
   "source": [
    "mu.pl.mofa(mdata, color=\"time\", size = 250)"
   ]
  },
  {
   "cell_type": "code",
   "execution_count": 16,
   "metadata": {},
   "outputs": [
    {
     "name": "stderr",
     "output_type": "stream",
     "text": [
      "... storing 'species' as categorical\n"
     ]
    },
    {
     "data": {
      "image/png": "[encoded data removed]",
      "text/plain": [
       "<Figure size 432x288 with 2 Axes>"
      ]
     },
     "metadata": {
      "needs_background": "light"
     },
     "output_type": "display_data"
    }
   ],
   "source": [
    "mu.pl.mofa(mdata, color=\"time_warped\", size = 250)"
   ]
  },
  {
   "cell_type": "markdown",
   "metadata": {},
   "source": [
    "## Latent factors versus common developmental time"
   ]
  },
  {
   "cell_type": "markdown",
   "metadata": {},
   "source": [
    "We can plot the latent processes along the inferred common developmental time."
   ]
  },
  {
   "cell_type": "markdown",
   "metadata": {},
   "source": [
    "Before alignment:"
   ]
  },
  {
   "cell_type": "code",
   "execution_count": 17,
   "metadata": {},
   "outputs": [
    {
     "data": {
      "text/plain": [
       "<AxesSubplot:xlabel='time', ylabel='Factor1'>"
      ]
     },
     "execution_count": 17,
     "metadata": {},
     "output_type": "execute_result"
    },
    {
     "data": {
      "image/png": "[encoded data removed]",
      "text/plain": [
       "<Figure size 432x288 with 1 Axes>"
      ]
     },
     "metadata": {
      "needs_background": "light"
     },
     "output_type": "display_data"
    }
   ],
   "source": [
    "import seaborn as sns\n",
    "df = pd.DataFrame({'time' : mdata.obs['time'], 'Factor1' : mdata.obsm['X_mofa'][:,0], 'species' : mdata.obs['species']})\n",
    "sns.scatterplot(x = \"time\", y = \"Factor1\", hue = \"species\", data = df)"
   ]
  },
  {
   "cell_type": "markdown",
   "metadata": {},
   "source": [
    "After alignment:"
   ]
  },
  {
   "cell_type": "code",
   "execution_count": 19,
   "metadata": {},
   "outputs": [
    {
     "data": {
      "text/plain": [
       "<AxesSubplot:xlabel='time', ylabel='Factor1'>"
      ]
     },
     "execution_count": 19,
     "metadata": {},
     "output_type": "execute_result"
    },
    {
     "data": {
      "image/png": "[encoded data removed]",
      "text/plain": [
       "<Figure size 432x288 with 1 Axes>"
      ]
     },
     "metadata": {
      "needs_background": "light"
     },
     "output_type": "display_data"
    }
   ],
   "source": [
    "df = pd.DataFrame({'time' : mdata.obs['time_warped'], 'Factor1' : mdata.obsm['X_mofa'][:,0], 'species' : mdata.obs['species']})\n",
    "sns.scatterplot(x = \"time\", y = \"Factor1\", hue = \"species\", data = df)"
   ]
  },
  {
   "cell_type": "markdown",
   "metadata": {},
   "source": [
    "## Alignment"
   ]
  },
  {
   "cell_type": "markdown",
   "metadata": {},
   "source": [
    "We can also take a look at the learnt alignemnt."
   ]
  },
  {
   "cell_type": "code",
   "execution_count": 18,
   "metadata": {},
   "outputs": [
    {
     "data": {
      "text/plain": [
       "<AxesSubplot:xlabel='time', ylabel='time_warped'>"
      ]
     },
     "execution_count": 18,
     "metadata": {},
     "output_type": "execute_result"
    },
    {
     "data": {
      "image/png": "[encoded data removed]",
      "text/plain": [
       "<Figure size 432x288 with 1 Axes>"
      ]
     },
     "metadata": {
      "needs_background": "light"
     },
     "output_type": "display_data"
    }
   ],
   "source": [
    "sns.scatterplot(x = \"time\", y = \"time_warped\", hue = \"species\", data = mdata.obs)"
   ]
  },
  {
   "cell_type": "markdown",
   "metadata": {},
   "source": [
    "## Further analyes"
   ]
  },
  {
   "cell_type": "markdown",
   "metadata": {},
   "source": [
    "Additionally we can take a look at the smoothness and sharedness of the factors, interpolate the factors or cluster the species based on the learnt group kernel of each latent factor.\n",
    "This is not yet implemented for muon and can be done from R as described [here](https://raw.githack.com/bioFAM/MEFISTO_tutorials/master/evodevo_tutorial.html)."
   ]
  },
  {
   "cell_type": "code",
   "execution_count": null,
   "metadata": {},
   "outputs": [],
   "source": []
  }
 ],
 "metadata": {
  "kernelspec": {
   "display_name": "Python 3",
   "language": "python",
   "name": "python3"
  },
  "language_info": {
   "codemirror_mode": {
    "name": "ipython",
    "version": 3
   },
   "file_extension": ".py",
   "mimetype": "text/x-python",
   "name": "python",
   "nbconvert_exporter": "python",
   "pygments_lexer": "ipython3",
   "version": "3.7.9"
  }
 },
 "nbformat": 4,
 "nbformat_minor": 4
}
