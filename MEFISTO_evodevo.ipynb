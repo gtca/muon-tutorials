{
 "cells": [
  {
   "cell_type": "markdown",
   "metadata": {},
   "source": [
    "This notebook demonstrates how temporal (or spatial) covariates can be used for multimodal data integration to learn smooth latent factors while benefiting from the multimodal `MuData` objects from `muon`.\n",
    "\n",
    "Please find more information about this method — *MEFISTO* — [on its website](https://biofam.github.io/MOFA2/MEFISTO) and [in the preprint](https://www.biorxiv.org/content/10.1101/2020.11.03.366674v1) by Britta Velten et al."
   ]
  },
  {
   "cell_type": "code",
   "execution_count": 1,
   "metadata": {},
   "outputs": [],
   "source": [
    "import numpy as np\n",
    "import pandas as pd\n",
    "import scanpy as sc\n",
    "\n",
    "import muon as mu\n",
    "\n",
    "import mofax"
   ]
  },
  {
   "cell_type": "markdown",
   "metadata": {},
   "source": [
    "## Load data\n",
    "\n",
    "First we will load the evodevo data containing normalized gene expression data for 5 species (groups) and 5 organs (views) as well as the developmental time information for each sample. The data can be downloaded [from here](https://figshare.com/s/242916198fde3353f3e6)."
   ]
  },
  {
   "cell_type": "code",
   "execution_count": 2,
   "metadata": {},
   "outputs": [],
   "source": [
    "datadir = \"data/evodevo\""
   ]
  },
  {
   "cell_type": "code",
   "execution_count": 3,
   "metadata": {},
   "outputs": [
    {
     "name": "stderr",
     "output_type": "stream",
     "text": [
      "/icgc/dkfzlsdf/analysis/B260/software/users/velten/envs/muon/lib/python3.7/site-packages/numpy/lib/arraysetops.py:569: FutureWarning: elementwise comparison failed; returning scalar instead, but in the future will perform elementwise comparison\n",
      "  mask |= (ar1 == a)\n"
     ]
    },
    {
     "data": {
      "text/html": [
       "<div>\n",
       "<style scoped>\n",
       "    .dataframe tbody tr th:only-of-type {\n",
       "        vertical-align: middle;\n",
       "    }\n",
       "\n",
       "    .dataframe tbody tr th {\n",
       "        vertical-align: top;\n",
       "    }\n",
       "\n",
       "    .dataframe thead th {\n",
       "        text-align: right;\n",
       "    }\n",
       "</style>\n",
       "<table border=\"1\" class=\"dataframe\">\n",
       "  <thead>\n",
       "    <tr style=\"text-align: right;\">\n",
       "      <th></th>\n",
       "      <th>group</th>\n",
       "      <th>view</th>\n",
       "      <th>sample</th>\n",
       "      <th>feature</th>\n",
       "      <th>value</th>\n",
       "      <th>time</th>\n",
       "    </tr>\n",
       "  </thead>\n",
       "  <tbody>\n",
       "    <tr>\n",
       "      <th>1</th>\n",
       "      <td>Human</td>\n",
       "      <td>Brain</td>\n",
       "      <td>10wpc_Human</td>\n",
       "      <td>ENSG00000000457_Brain</td>\n",
       "      <td>8.573918</td>\n",
       "      <td>7</td>\n",
       "    </tr>\n",
       "    <tr>\n",
       "      <th>2</th>\n",
       "      <td>Human</td>\n",
       "      <td>Brain</td>\n",
       "      <td>10wpc_Human</td>\n",
       "      <td>ENSG00000001084_Brain</td>\n",
       "      <td>8.875957</td>\n",
       "      <td>7</td>\n",
       "    </tr>\n",
       "    <tr>\n",
       "      <th>3</th>\n",
       "      <td>Human</td>\n",
       "      <td>Brain</td>\n",
       "      <td>10wpc_Human</td>\n",
       "      <td>ENSG00000001167_Brain</td>\n",
       "      <td>11.265237</td>\n",
       "      <td>7</td>\n",
       "    </tr>\n",
       "    <tr>\n",
       "      <th>4</th>\n",
       "      <td>Human</td>\n",
       "      <td>Brain</td>\n",
       "      <td>10wpc_Human</td>\n",
       "      <td>ENSG00000001461_Brain</td>\n",
       "      <td>7.374965</td>\n",
       "      <td>7</td>\n",
       "    </tr>\n",
       "    <tr>\n",
       "      <th>5</th>\n",
       "      <td>Human</td>\n",
       "      <td>Brain</td>\n",
       "      <td>10wpc_Human</td>\n",
       "      <td>ENSG00000001561_Brain</td>\n",
       "      <td>7.311018</td>\n",
       "      <td>7</td>\n",
       "    </tr>\n",
       "    <tr>\n",
       "      <th>...</th>\n",
       "      <td>...</td>\n",
       "      <td>...</td>\n",
       "      <td>...</td>\n",
       "      <td>...</td>\n",
       "      <td>...</td>\n",
       "      <td>...</td>\n",
       "    </tr>\n",
       "    <tr>\n",
       "      <th>3193836</th>\n",
       "      <td>Human</td>\n",
       "      <td>Testis</td>\n",
       "      <td>youngMidAge_Human</td>\n",
       "      <td>ENSG00000271503_Testis</td>\n",
       "      <td>1.178014</td>\n",
       "      <td>21</td>\n",
       "    </tr>\n",
       "    <tr>\n",
       "      <th>3193837</th>\n",
       "      <td>Human</td>\n",
       "      <td>Testis</td>\n",
       "      <td>youngMidAge_Human</td>\n",
       "      <td>ENSG00000271601_Testis</td>\n",
       "      <td>1.178014</td>\n",
       "      <td>21</td>\n",
       "    </tr>\n",
       "    <tr>\n",
       "      <th>3193838</th>\n",
       "      <td>Human</td>\n",
       "      <td>Testis</td>\n",
       "      <td>youngMidAge_Human</td>\n",
       "      <td>ENSG00000272442_Testis</td>\n",
       "      <td>4.476201</td>\n",
       "      <td>21</td>\n",
       "    </tr>\n",
       "    <tr>\n",
       "      <th>3193839</th>\n",
       "      <td>Human</td>\n",
       "      <td>Testis</td>\n",
       "      <td>youngMidAge_Human</td>\n",
       "      <td>ENSG00000272886_Testis</td>\n",
       "      <td>1.178014</td>\n",
       "      <td>21</td>\n",
       "    </tr>\n",
       "    <tr>\n",
       "      <th>3193840</th>\n",
       "      <td>Human</td>\n",
       "      <td>Testis</td>\n",
       "      <td>youngMidAge_Human</td>\n",
       "      <td>ENSG00000273079_Testis</td>\n",
       "      <td>8.311393</td>\n",
       "      <td>21</td>\n",
       "    </tr>\n",
       "  </tbody>\n",
       "</table>\n",
       "<p>3193840 rows × 6 columns</p>\n",
       "</div>"
      ],
      "text/plain": [
       "         group    view             sample                 feature      value  \\\n",
       "1        Human   Brain        10wpc_Human   ENSG00000000457_Brain   8.573918   \n",
       "2        Human   Brain        10wpc_Human   ENSG00000001084_Brain   8.875957   \n",
       "3        Human   Brain        10wpc_Human   ENSG00000001167_Brain  11.265237   \n",
       "4        Human   Brain        10wpc_Human   ENSG00000001461_Brain   7.374965   \n",
       "5        Human   Brain        10wpc_Human   ENSG00000001561_Brain   7.311018   \n",
       "...        ...     ...                ...                     ...        ...   \n",
       "3193836  Human  Testis  youngMidAge_Human  ENSG00000271503_Testis   1.178014   \n",
       "3193837  Human  Testis  youngMidAge_Human  ENSG00000271601_Testis   1.178014   \n",
       "3193838  Human  Testis  youngMidAge_Human  ENSG00000272442_Testis   4.476201   \n",
       "3193839  Human  Testis  youngMidAge_Human  ENSG00000272886_Testis   1.178014   \n",
       "3193840  Human  Testis  youngMidAge_Human  ENSG00000273079_Testis   8.311393   \n",
       "\n",
       "         time  \n",
       "1           7  \n",
       "2           7  \n",
       "3           7  \n",
       "4           7  \n",
       "5           7  \n",
       "...       ...  \n",
       "3193836    21  \n",
       "3193837    21  \n",
       "3193838    21  \n",
       "3193839    21  \n",
       "3193840    21  \n",
       "\n",
       "[3193840 rows x 6 columns]"
      ]
     },
     "execution_count": 3,
     "metadata": {},
     "output_type": "execute_result"
    }
   ],
   "source": [
    "data = pd.read_csv(f\"{datadir}/evodevo.csv\", sep=\",\", index_col=0)\n",
    "data"
   ]
  },
  {
   "cell_type": "markdown",
   "metadata": {},
   "source": [
    "First, we create a collection of AnnData objects from this dataframe, one for each organ.\n",
    "\n",
    "For instance, here's the data for the `'Brain'` view:"
   ]
  },
  {
   "cell_type": "code",
   "execution_count": 4,
   "metadata": {},
   "outputs": [
    {
     "data": {
      "text/html": [
       "<div>\n",
       "<style scoped>\n",
       "    .dataframe tbody tr th:only-of-type {\n",
       "        vertical-align: middle;\n",
       "    }\n",
       "\n",
       "    .dataframe tbody tr th {\n",
       "        vertical-align: top;\n",
       "    }\n",
       "\n",
       "    .dataframe thead th {\n",
       "        text-align: right;\n",
       "    }\n",
       "</style>\n",
       "<table border=\"1\" class=\"dataframe\">\n",
       "  <thead>\n",
       "    <tr style=\"text-align: right;\">\n",
       "      <th>feature</th>\n",
       "      <th>ENSG00000000457_Brain</th>\n",
       "      <th>ENSG00000001084_Brain</th>\n",
       "      <th>ENSG00000001167_Brain</th>\n",
       "      <th>ENSG00000001461_Brain</th>\n",
       "      <th>ENSG00000001561_Brain</th>\n",
       "      <th>ENSG00000001617_Brain</th>\n",
       "      <th>ENSG00000001629_Brain</th>\n",
       "      <th>ENSG00000001631_Brain</th>\n",
       "      <th>ENSG00000002549_Brain</th>\n",
       "      <th>ENSG00000002745_Brain</th>\n",
       "      <th>...</th>\n",
       "      <th>ENSG00000267909_Brain</th>\n",
       "      <th>ENSG00000268104_Brain</th>\n",
       "      <th>ENSG00000269058_Brain</th>\n",
       "      <th>ENSG00000270885_Brain</th>\n",
       "      <th>ENSG00000271092_Brain</th>\n",
       "      <th>ENSG00000271503_Brain</th>\n",
       "      <th>ENSG00000271601_Brain</th>\n",
       "      <th>ENSG00000272442_Brain</th>\n",
       "      <th>ENSG00000272886_Brain</th>\n",
       "      <th>ENSG00000273079_Brain</th>\n",
       "    </tr>\n",
       "    <tr>\n",
       "      <th>sample</th>\n",
       "      <th></th>\n",
       "      <th></th>\n",
       "      <th></th>\n",
       "      <th></th>\n",
       "      <th></th>\n",
       "      <th></th>\n",
       "      <th></th>\n",
       "      <th></th>\n",
       "      <th></th>\n",
       "      <th></th>\n",
       "      <th></th>\n",
       "      <th></th>\n",
       "      <th></th>\n",
       "      <th></th>\n",
       "      <th></th>\n",
       "      <th></th>\n",
       "      <th></th>\n",
       "      <th></th>\n",
       "      <th></th>\n",
       "      <th></th>\n",
       "      <th></th>\n",
       "    </tr>\n",
       "  </thead>\n",
       "  <tbody>\n",
       "    <tr>\n",
       "      <th>10wpc_Human</th>\n",
       "      <td>8.573918</td>\n",
       "      <td>8.875957</td>\n",
       "      <td>11.265237</td>\n",
       "      <td>7.374965</td>\n",
       "      <td>7.311018</td>\n",
       "      <td>9.959839</td>\n",
       "      <td>10.542619</td>\n",
       "      <td>9.692082</td>\n",
       "      <td>9.180280</td>\n",
       "      <td>4.281878</td>\n",
       "      <td>...</td>\n",
       "      <td>7.221091</td>\n",
       "      <td>1.178014</td>\n",
       "      <td>1.178014</td>\n",
       "      <td>1.178014</td>\n",
       "      <td>1.178014</td>\n",
       "      <td>1.178014</td>\n",
       "      <td>1.178014</td>\n",
       "      <td>1.178014</td>\n",
       "      <td>1.178014</td>\n",
       "      <td>11.74615</td>\n",
       "    </tr>\n",
       "    <tr>\n",
       "      <th>11wpc_Human</th>\n",
       "      <td>8.439675</td>\n",
       "      <td>8.737682</td>\n",
       "      <td>10.855314</td>\n",
       "      <td>8.066544</td>\n",
       "      <td>7.354726</td>\n",
       "      <td>10.431113</td>\n",
       "      <td>10.308780</td>\n",
       "      <td>9.242115</td>\n",
       "      <td>9.350255</td>\n",
       "      <td>3.363064</td>\n",
       "      <td>...</td>\n",
       "      <td>7.116983</td>\n",
       "      <td>1.178014</td>\n",
       "      <td>1.178014</td>\n",
       "      <td>1.178014</td>\n",
       "      <td>1.178014</td>\n",
       "      <td>1.178014</td>\n",
       "      <td>1.178014</td>\n",
       "      <td>1.421384</td>\n",
       "      <td>1.178014</td>\n",
       "      <td>11.28160</td>\n",
       "    </tr>\n",
       "    <tr>\n",
       "      <th>12wpc_Human</th>\n",
       "      <td>8.399178</td>\n",
       "      <td>8.916387</td>\n",
       "      <td>12.555510</td>\n",
       "      <td>9.253555</td>\n",
       "      <td>8.763702</td>\n",
       "      <td>9.946536</td>\n",
       "      <td>11.530929</td>\n",
       "      <td>10.033949</td>\n",
       "      <td>9.278142</td>\n",
       "      <td>4.322361</td>\n",
       "      <td>...</td>\n",
       "      <td>4.000716</td>\n",
       "      <td>1.178014</td>\n",
       "      <td>1.178014</td>\n",
       "      <td>1.178014</td>\n",
       "      <td>1.178014</td>\n",
       "      <td>1.178014</td>\n",
       "      <td>1.178014</td>\n",
       "      <td>2.664630</td>\n",
       "      <td>1.178014</td>\n",
       "      <td>13.97646</td>\n",
       "    </tr>\n",
       "    <tr>\n",
       "      <th>13wpc_Human</th>\n",
       "      <td>8.637347</td>\n",
       "      <td>8.831740</td>\n",
       "      <td>10.916489</td>\n",
       "      <td>9.190959</td>\n",
       "      <td>8.158240</td>\n",
       "      <td>10.279600</td>\n",
       "      <td>11.287268</td>\n",
       "      <td>9.510370</td>\n",
       "      <td>9.033614</td>\n",
       "      <td>4.784136</td>\n",
       "      <td>...</td>\n",
       "      <td>5.635512</td>\n",
       "      <td>1.178014</td>\n",
       "      <td>1.481758</td>\n",
       "      <td>1.178014</td>\n",
       "      <td>1.178014</td>\n",
       "      <td>1.178014</td>\n",
       "      <td>1.178014</td>\n",
       "      <td>1.776655</td>\n",
       "      <td>1.178014</td>\n",
       "      <td>12.47349</td>\n",
       "    </tr>\n",
       "    <tr>\n",
       "      <th>16wpc_Human</th>\n",
       "      <td>8.525125</td>\n",
       "      <td>8.575862</td>\n",
       "      <td>11.271736</td>\n",
       "      <td>8.177629</td>\n",
       "      <td>7.857303</td>\n",
       "      <td>10.363036</td>\n",
       "      <td>11.402954</td>\n",
       "      <td>9.523244</td>\n",
       "      <td>8.833177</td>\n",
       "      <td>2.785827</td>\n",
       "      <td>...</td>\n",
       "      <td>6.119527</td>\n",
       "      <td>1.178014</td>\n",
       "      <td>1.178014</td>\n",
       "      <td>1.178014</td>\n",
       "      <td>1.178014</td>\n",
       "      <td>1.178014</td>\n",
       "      <td>1.178014</td>\n",
       "      <td>2.413222</td>\n",
       "      <td>1.178014</td>\n",
       "      <td>13.73805</td>\n",
       "    </tr>\n",
       "    <tr>\n",
       "      <th>...</th>\n",
       "      <td>...</td>\n",
       "      <td>...</td>\n",
       "      <td>...</td>\n",
       "      <td>...</td>\n",
       "      <td>...</td>\n",
       "      <td>...</td>\n",
       "      <td>...</td>\n",
       "      <td>...</td>\n",
       "      <td>...</td>\n",
       "      <td>...</td>\n",
       "      <td>...</td>\n",
       "      <td>...</td>\n",
       "      <td>...</td>\n",
       "      <td>...</td>\n",
       "      <td>...</td>\n",
       "      <td>...</td>\n",
       "      <td>...</td>\n",
       "      <td>...</td>\n",
       "      <td>...</td>\n",
       "      <td>...</td>\n",
       "      <td>...</td>\n",
       "    </tr>\n",
       "    <tr>\n",
       "      <th>senior_Human</th>\n",
       "      <td>8.437410</td>\n",
       "      <td>9.898419</td>\n",
       "      <td>8.216911</td>\n",
       "      <td>11.504150</td>\n",
       "      <td>9.958047</td>\n",
       "      <td>6.857990</td>\n",
       "      <td>9.623469</td>\n",
       "      <td>9.205518</td>\n",
       "      <td>9.884420</td>\n",
       "      <td>4.484028</td>\n",
       "      <td>...</td>\n",
       "      <td>3.862928</td>\n",
       "      <td>1.178014</td>\n",
       "      <td>2.254255</td>\n",
       "      <td>1.178014</td>\n",
       "      <td>1.178014</td>\n",
       "      <td>1.178014</td>\n",
       "      <td>1.178014</td>\n",
       "      <td>2.581292</td>\n",
       "      <td>1.178014</td>\n",
       "      <td>11.67438</td>\n",
       "    </tr>\n",
       "    <tr>\n",
       "      <th>teenager_Human</th>\n",
       "      <td>8.429526</td>\n",
       "      <td>9.949921</td>\n",
       "      <td>8.637132</td>\n",
       "      <td>11.680140</td>\n",
       "      <td>10.211020</td>\n",
       "      <td>6.452668</td>\n",
       "      <td>10.214710</td>\n",
       "      <td>9.604091</td>\n",
       "      <td>9.903370</td>\n",
       "      <td>5.265158</td>\n",
       "      <td>...</td>\n",
       "      <td>3.162686</td>\n",
       "      <td>1.178014</td>\n",
       "      <td>1.178014</td>\n",
       "      <td>1.178014</td>\n",
       "      <td>1.453269</td>\n",
       "      <td>1.178014</td>\n",
       "      <td>1.178014</td>\n",
       "      <td>3.016177</td>\n",
       "      <td>1.178014</td>\n",
       "      <td>12.54986</td>\n",
       "    </tr>\n",
       "    <tr>\n",
       "      <th>toddler_Human</th>\n",
       "      <td>8.333979</td>\n",
       "      <td>10.027860</td>\n",
       "      <td>8.693345</td>\n",
       "      <td>11.691260</td>\n",
       "      <td>9.731870</td>\n",
       "      <td>7.191969</td>\n",
       "      <td>10.286670</td>\n",
       "      <td>8.958592</td>\n",
       "      <td>10.120610</td>\n",
       "      <td>5.322412</td>\n",
       "      <td>...</td>\n",
       "      <td>5.152286</td>\n",
       "      <td>1.178014</td>\n",
       "      <td>1.648489</td>\n",
       "      <td>1.178014</td>\n",
       "      <td>1.178014</td>\n",
       "      <td>1.178014</td>\n",
       "      <td>1.178014</td>\n",
       "      <td>3.201100</td>\n",
       "      <td>1.178014</td>\n",
       "      <td>12.81460</td>\n",
       "    </tr>\n",
       "    <tr>\n",
       "      <th>youngAdult_Human</th>\n",
       "      <td>8.601354</td>\n",
       "      <td>10.237540</td>\n",
       "      <td>9.176577</td>\n",
       "      <td>12.092570</td>\n",
       "      <td>10.388410</td>\n",
       "      <td>6.998035</td>\n",
       "      <td>10.577030</td>\n",
       "      <td>9.812306</td>\n",
       "      <td>9.798473</td>\n",
       "      <td>5.154397</td>\n",
       "      <td>...</td>\n",
       "      <td>4.365919</td>\n",
       "      <td>1.178014</td>\n",
       "      <td>1.178014</td>\n",
       "      <td>1.178014</td>\n",
       "      <td>1.178014</td>\n",
       "      <td>1.178014</td>\n",
       "      <td>1.178014</td>\n",
       "      <td>3.330907</td>\n",
       "      <td>1.178014</td>\n",
       "      <td>12.69678</td>\n",
       "    </tr>\n",
       "    <tr>\n",
       "      <th>youngMidAge_Human</th>\n",
       "      <td>8.378206</td>\n",
       "      <td>9.924419</td>\n",
       "      <td>9.128045</td>\n",
       "      <td>11.684350</td>\n",
       "      <td>10.253420</td>\n",
       "      <td>6.914197</td>\n",
       "      <td>10.260320</td>\n",
       "      <td>9.917214</td>\n",
       "      <td>9.823436</td>\n",
       "      <td>4.722714</td>\n",
       "      <td>...</td>\n",
       "      <td>4.218114</td>\n",
       "      <td>1.178014</td>\n",
       "      <td>3.464638</td>\n",
       "      <td>1.178014</td>\n",
       "      <td>1.737065</td>\n",
       "      <td>1.178014</td>\n",
       "      <td>1.178014</td>\n",
       "      <td>3.069621</td>\n",
       "      <td>1.178014</td>\n",
       "      <td>12.59430</td>\n",
       "    </tr>\n",
       "  </tbody>\n",
       "</table>\n",
       "<p>83 rows × 7696 columns</p>\n",
       "</div>"
      ],
      "text/plain": [
       "feature            ENSG00000000457_Brain  ENSG00000001084_Brain  \\\n",
       "sample                                                            \n",
       "10wpc_Human                     8.573918               8.875957   \n",
       "11wpc_Human                     8.439675               8.737682   \n",
       "12wpc_Human                     8.399178               8.916387   \n",
       "13wpc_Human                     8.637347               8.831740   \n",
       "16wpc_Human                     8.525125               8.575862   \n",
       "...                                  ...                    ...   \n",
       "senior_Human                    8.437410               9.898419   \n",
       "teenager_Human                  8.429526               9.949921   \n",
       "toddler_Human                   8.333979              10.027860   \n",
       "youngAdult_Human                8.601354              10.237540   \n",
       "youngMidAge_Human               8.378206               9.924419   \n",
       "\n",
       "feature            ENSG00000001167_Brain  ENSG00000001461_Brain  \\\n",
       "sample                                                            \n",
       "10wpc_Human                    11.265237               7.374965   \n",
       "11wpc_Human                    10.855314               8.066544   \n",
       "12wpc_Human                    12.555510               9.253555   \n",
       "13wpc_Human                    10.916489               9.190959   \n",
       "16wpc_Human                    11.271736               8.177629   \n",
       "...                                  ...                    ...   \n",
       "senior_Human                    8.216911              11.504150   \n",
       "teenager_Human                  8.637132              11.680140   \n",
       "toddler_Human                   8.693345              11.691260   \n",
       "youngAdult_Human                9.176577              12.092570   \n",
       "youngMidAge_Human               9.128045              11.684350   \n",
       "\n",
       "feature            ENSG00000001561_Brain  ENSG00000001617_Brain  \\\n",
       "sample                                                            \n",
       "10wpc_Human                     7.311018               9.959839   \n",
       "11wpc_Human                     7.354726              10.431113   \n",
       "12wpc_Human                     8.763702               9.946536   \n",
       "13wpc_Human                     8.158240              10.279600   \n",
       "16wpc_Human                     7.857303              10.363036   \n",
       "...                                  ...                    ...   \n",
       "senior_Human                    9.958047               6.857990   \n",
       "teenager_Human                 10.211020               6.452668   \n",
       "toddler_Human                   9.731870               7.191969   \n",
       "youngAdult_Human               10.388410               6.998035   \n",
       "youngMidAge_Human              10.253420               6.914197   \n",
       "\n",
       "feature            ENSG00000001629_Brain  ENSG00000001631_Brain  \\\n",
       "sample                                                            \n",
       "10wpc_Human                    10.542619               9.692082   \n",
       "11wpc_Human                    10.308780               9.242115   \n",
       "12wpc_Human                    11.530929              10.033949   \n",
       "13wpc_Human                    11.287268               9.510370   \n",
       "16wpc_Human                    11.402954               9.523244   \n",
       "...                                  ...                    ...   \n",
       "senior_Human                    9.623469               9.205518   \n",
       "teenager_Human                 10.214710               9.604091   \n",
       "toddler_Human                  10.286670               8.958592   \n",
       "youngAdult_Human               10.577030               9.812306   \n",
       "youngMidAge_Human              10.260320               9.917214   \n",
       "\n",
       "feature            ENSG00000002549_Brain  ENSG00000002745_Brain  ...  \\\n",
       "sample                                                           ...   \n",
       "10wpc_Human                     9.180280               4.281878  ...   \n",
       "11wpc_Human                     9.350255               3.363064  ...   \n",
       "12wpc_Human                     9.278142               4.322361  ...   \n",
       "13wpc_Human                     9.033614               4.784136  ...   \n",
       "16wpc_Human                     8.833177               2.785827  ...   \n",
       "...                                  ...                    ...  ...   \n",
       "senior_Human                    9.884420               4.484028  ...   \n",
       "teenager_Human                  9.903370               5.265158  ...   \n",
       "toddler_Human                  10.120610               5.322412  ...   \n",
       "youngAdult_Human                9.798473               5.154397  ...   \n",
       "youngMidAge_Human               9.823436               4.722714  ...   \n",
       "\n",
       "feature            ENSG00000267909_Brain  ENSG00000268104_Brain  \\\n",
       "sample                                                            \n",
       "10wpc_Human                     7.221091               1.178014   \n",
       "11wpc_Human                     7.116983               1.178014   \n",
       "12wpc_Human                     4.000716               1.178014   \n",
       "13wpc_Human                     5.635512               1.178014   \n",
       "16wpc_Human                     6.119527               1.178014   \n",
       "...                                  ...                    ...   \n",
       "senior_Human                    3.862928               1.178014   \n",
       "teenager_Human                  3.162686               1.178014   \n",
       "toddler_Human                   5.152286               1.178014   \n",
       "youngAdult_Human                4.365919               1.178014   \n",
       "youngMidAge_Human               4.218114               1.178014   \n",
       "\n",
       "feature            ENSG00000269058_Brain  ENSG00000270885_Brain  \\\n",
       "sample                                                            \n",
       "10wpc_Human                     1.178014               1.178014   \n",
       "11wpc_Human                     1.178014               1.178014   \n",
       "12wpc_Human                     1.178014               1.178014   \n",
       "13wpc_Human                     1.481758               1.178014   \n",
       "16wpc_Human                     1.178014               1.178014   \n",
       "...                                  ...                    ...   \n",
       "senior_Human                    2.254255               1.178014   \n",
       "teenager_Human                  1.178014               1.178014   \n",
       "toddler_Human                   1.648489               1.178014   \n",
       "youngAdult_Human                1.178014               1.178014   \n",
       "youngMidAge_Human               3.464638               1.178014   \n",
       "\n",
       "feature            ENSG00000271092_Brain  ENSG00000271503_Brain  \\\n",
       "sample                                                            \n",
       "10wpc_Human                     1.178014               1.178014   \n",
       "11wpc_Human                     1.178014               1.178014   \n",
       "12wpc_Human                     1.178014               1.178014   \n",
       "13wpc_Human                     1.178014               1.178014   \n",
       "16wpc_Human                     1.178014               1.178014   \n",
       "...                                  ...                    ...   \n",
       "senior_Human                    1.178014               1.178014   \n",
       "teenager_Human                  1.453269               1.178014   \n",
       "toddler_Human                   1.178014               1.178014   \n",
       "youngAdult_Human                1.178014               1.178014   \n",
       "youngMidAge_Human               1.737065               1.178014   \n",
       "\n",
       "feature            ENSG00000271601_Brain  ENSG00000272442_Brain  \\\n",
       "sample                                                            \n",
       "10wpc_Human                     1.178014               1.178014   \n",
       "11wpc_Human                     1.178014               1.421384   \n",
       "12wpc_Human                     1.178014               2.664630   \n",
       "13wpc_Human                     1.178014               1.776655   \n",
       "16wpc_Human                     1.178014               2.413222   \n",
       "...                                  ...                    ...   \n",
       "senior_Human                    1.178014               2.581292   \n",
       "teenager_Human                  1.178014               3.016177   \n",
       "toddler_Human                   1.178014               3.201100   \n",
       "youngAdult_Human                1.178014               3.330907   \n",
       "youngMidAge_Human               1.178014               3.069621   \n",
       "\n",
       "feature            ENSG00000272886_Brain  ENSG00000273079_Brain  \n",
       "sample                                                           \n",
       "10wpc_Human                     1.178014               11.74615  \n",
       "11wpc_Human                     1.178014               11.28160  \n",
       "12wpc_Human                     1.178014               13.97646  \n",
       "13wpc_Human                     1.178014               12.47349  \n",
       "16wpc_Human                     1.178014               13.73805  \n",
       "...                                  ...                    ...  \n",
       "senior_Human                    1.178014               11.67438  \n",
       "teenager_Human                  1.178014               12.54986  \n",
       "toddler_Human                   1.178014               12.81460  \n",
       "youngAdult_Human                1.178014               12.69678  \n",
       "youngMidAge_Human               1.178014               12.59430  \n",
       "\n",
       "[83 rows x 7696 columns]"
      ]
     },
     "execution_count": 4,
     "metadata": {},
     "output_type": "execute_result"
    }
   ],
   "source": [
    "brain = data[data.view == 'Brain'].pivot(index='sample', columns='feature', values='value')\n",
    "brain"
   ]
  },
  {
   "cell_type": "code",
   "execution_count": 5,
   "metadata": {},
   "outputs": [
    {
     "data": {
      "text/plain": [
       "{'Brain': AnnData object with n_obs × n_vars = 83 × 7696,\n",
       " 'Cerebellum': AnnData object with n_obs × n_vars = 83 × 7696,\n",
       " 'Heart': AnnData object with n_obs × n_vars = 83 × 7696,\n",
       " 'Liver': AnnData object with n_obs × n_vars = 83 × 7696,\n",
       " 'Testis': AnnData object with n_obs × n_vars = 83 × 7696}"
      ]
     },
     "execution_count": 5,
     "metadata": {},
     "output_type": "execute_result"
    }
   ],
   "source": [
    "views = data.view.unique()\n",
    "data_list = [data[data.view == m].pivot(index='sample', columns='feature', values='value') for m in views]\n",
    "# data_list = [data[data.view == m].pivot(index=['group','sample'], columns='feature', values='value') for m in views]\n",
    "# data_list = [dd.set_index(dd.index.droplevel(level=0)) for dd in data_list]\n",
    "mods = {views[m]:sc.AnnData(data_list[m]) for m in range(len(views))}\n",
    "mods"
   ]
  },
  {
   "cell_type": "markdown",
   "metadata": {},
   "source": [
    "In addition, we keep the meta data for each sample, containing the developmental time points."
   ]
  },
  {
   "cell_type": "code",
   "execution_count": 6,
   "metadata": {},
   "outputs": [
    {
     "data": {
      "text/html": [
       "<div>\n",
       "<style scoped>\n",
       "    .dataframe tbody tr th:only-of-type {\n",
       "        vertical-align: middle;\n",
       "    }\n",
       "\n",
       "    .dataframe tbody tr th {\n",
       "        vertical-align: top;\n",
       "    }\n",
       "\n",
       "    .dataframe thead th {\n",
       "        text-align: right;\n",
       "    }\n",
       "</style>\n",
       "<table border=\"1\" class=\"dataframe\">\n",
       "  <thead>\n",
       "    <tr style=\"text-align: right;\">\n",
       "      <th></th>\n",
       "      <th>time</th>\n",
       "      <th>species</th>\n",
       "    </tr>\n",
       "    <tr>\n",
       "      <th>sample</th>\n",
       "      <th></th>\n",
       "      <th></th>\n",
       "    </tr>\n",
       "  </thead>\n",
       "  <tbody>\n",
       "    <tr>\n",
       "      <th>10wpc_Human</th>\n",
       "      <td>7</td>\n",
       "      <td>Human</td>\n",
       "    </tr>\n",
       "    <tr>\n",
       "      <th>11wpc_Human</th>\n",
       "      <td>8</td>\n",
       "      <td>Human</td>\n",
       "    </tr>\n",
       "    <tr>\n",
       "      <th>12wpc_Human</th>\n",
       "      <td>9</td>\n",
       "      <td>Human</td>\n",
       "    </tr>\n",
       "    <tr>\n",
       "      <th>13wpc_Human</th>\n",
       "      <td>10</td>\n",
       "      <td>Human</td>\n",
       "    </tr>\n",
       "    <tr>\n",
       "      <th>16wpc_Human</th>\n",
       "      <td>11</td>\n",
       "      <td>Human</td>\n",
       "    </tr>\n",
       "    <tr>\n",
       "      <th>...</th>\n",
       "      <td>...</td>\n",
       "      <td>...</td>\n",
       "    </tr>\n",
       "    <tr>\n",
       "      <th>senior_Human</th>\n",
       "      <td>23</td>\n",
       "      <td>Human</td>\n",
       "    </tr>\n",
       "    <tr>\n",
       "      <th>teenager_Human</th>\n",
       "      <td>19</td>\n",
       "      <td>Human</td>\n",
       "    </tr>\n",
       "    <tr>\n",
       "      <th>toddler_Human</th>\n",
       "      <td>17</td>\n",
       "      <td>Human</td>\n",
       "    </tr>\n",
       "    <tr>\n",
       "      <th>youngAdult_Human</th>\n",
       "      <td>20</td>\n",
       "      <td>Human</td>\n",
       "    </tr>\n",
       "    <tr>\n",
       "      <th>youngMidAge_Human</th>\n",
       "      <td>21</td>\n",
       "      <td>Human</td>\n",
       "    </tr>\n",
       "  </tbody>\n",
       "</table>\n",
       "<p>83 rows × 2 columns</p>\n",
       "</div>"
      ],
      "text/plain": [
       "                   time species\n",
       "sample                         \n",
       "10wpc_Human           7   Human\n",
       "11wpc_Human           8   Human\n",
       "12wpc_Human           9   Human\n",
       "13wpc_Human          10   Human\n",
       "16wpc_Human          11   Human\n",
       "...                 ...     ...\n",
       "senior_Human         23   Human\n",
       "teenager_Human       19   Human\n",
       "toddler_Human        17   Human\n",
       "youngAdult_Human     20   Human\n",
       "youngMidAge_Human    21   Human\n",
       "\n",
       "[83 rows x 2 columns]"
      ]
     },
     "execution_count": 6,
     "metadata": {},
     "output_type": "execute_result"
    }
   ],
   "source": [
    "obs = (\n",
    "    data[['sample', 'time', 'group']]\n",
    "        .drop_duplicates()\n",
    "        .rename(columns = {'group' : 'species'})\n",
    "        .set_index('sample')\n",
    ")\n",
    "obs"
   ]
  },
  {
   "cell_type": "markdown",
   "metadata": {},
   "source": [
    "We now create a multimodal `MuData` object:"
   ]
  },
  {
   "cell_type": "code",
   "execution_count": 7,
   "metadata": {},
   "outputs": [],
   "source": [
    "mdata = mu.MuData(mods)\n",
    "mdata.obs = mdata.obs.join(obs)"
   ]
  },
  {
   "cell_type": "markdown",
   "metadata": {},
   "source": [
    "This contains both the gene expression data,"
   ]
  },
  {
   "cell_type": "code",
   "execution_count": 8,
   "metadata": {},
   "outputs": [
    {
     "data": {
      "text/plain": [
       "AnnData object with n_obs × n_vars = 83 × 7696"
      ]
     },
     "execution_count": 8,
     "metadata": {},
     "output_type": "execute_result"
    }
   ],
   "source": [
    "mdata\n",
    "mdata['Brain']"
   ]
  },
  {
   "cell_type": "markdown",
   "metadata": {},
   "source": [
    "as well as the sample-level information given by the developmental time points, which are not yet matched for different species."
   ]
  },
  {
   "cell_type": "code",
   "execution_count": 9,
   "metadata": {},
   "outputs": [
    {
     "data": {
      "text/html": [
       "<div>\n",
       "<style scoped>\n",
       "    .dataframe tbody tr th:only-of-type {\n",
       "        vertical-align: middle;\n",
       "    }\n",
       "\n",
       "    .dataframe tbody tr th {\n",
       "        vertical-align: top;\n",
       "    }\n",
       "\n",
       "    .dataframe thead th {\n",
       "        text-align: right;\n",
       "    }\n",
       "</style>\n",
       "<table border=\"1\" class=\"dataframe\">\n",
       "  <thead>\n",
       "    <tr style=\"text-align: right;\">\n",
       "      <th></th>\n",
       "      <th>time</th>\n",
       "      <th>species</th>\n",
       "    </tr>\n",
       "    <tr>\n",
       "      <th>sample</th>\n",
       "      <th></th>\n",
       "      <th></th>\n",
       "    </tr>\n",
       "  </thead>\n",
       "  <tbody>\n",
       "    <tr>\n",
       "      <th>10wpc_Human</th>\n",
       "      <td>7</td>\n",
       "      <td>Human</td>\n",
       "    </tr>\n",
       "    <tr>\n",
       "      <th>11wpc_Human</th>\n",
       "      <td>8</td>\n",
       "      <td>Human</td>\n",
       "    </tr>\n",
       "    <tr>\n",
       "      <th>12wpc_Human</th>\n",
       "      <td>9</td>\n",
       "      <td>Human</td>\n",
       "    </tr>\n",
       "    <tr>\n",
       "      <th>13wpc_Human</th>\n",
       "      <td>10</td>\n",
       "      <td>Human</td>\n",
       "    </tr>\n",
       "    <tr>\n",
       "      <th>16wpc_Human</th>\n",
       "      <td>11</td>\n",
       "      <td>Human</td>\n",
       "    </tr>\n",
       "    <tr>\n",
       "      <th>...</th>\n",
       "      <td>...</td>\n",
       "      <td>...</td>\n",
       "    </tr>\n",
       "    <tr>\n",
       "      <th>senior_Human</th>\n",
       "      <td>23</td>\n",
       "      <td>Human</td>\n",
       "    </tr>\n",
       "    <tr>\n",
       "      <th>teenager_Human</th>\n",
       "      <td>19</td>\n",
       "      <td>Human</td>\n",
       "    </tr>\n",
       "    <tr>\n",
       "      <th>toddler_Human</th>\n",
       "      <td>17</td>\n",
       "      <td>Human</td>\n",
       "    </tr>\n",
       "    <tr>\n",
       "      <th>youngAdult_Human</th>\n",
       "      <td>20</td>\n",
       "      <td>Human</td>\n",
       "    </tr>\n",
       "    <tr>\n",
       "      <th>youngMidAge_Human</th>\n",
       "      <td>21</td>\n",
       "      <td>Human</td>\n",
       "    </tr>\n",
       "  </tbody>\n",
       "</table>\n",
       "<p>83 rows × 2 columns</p>\n",
       "</div>"
      ],
      "text/plain": [
       "                   time species\n",
       "sample                         \n",
       "10wpc_Human           7   Human\n",
       "11wpc_Human           8   Human\n",
       "12wpc_Human           9   Human\n",
       "13wpc_Human          10   Human\n",
       "16wpc_Human          11   Human\n",
       "...                 ...     ...\n",
       "senior_Human         23   Human\n",
       "teenager_Human       19   Human\n",
       "toddler_Human        17   Human\n",
       "youngAdult_Human     20   Human\n",
       "youngMidAge_Human    21   Human\n",
       "\n",
       "[83 rows x 2 columns]"
      ]
     },
     "execution_count": 9,
     "metadata": {},
     "output_type": "execute_result"
    }
   ],
   "source": [
    "mdata.obs"
   ]
  },
  {
   "cell_type": "markdown",
   "metadata": {},
   "source": [
    "## Integrate data"
   ]
  },
  {
   "cell_type": "markdown",
   "metadata": {},
   "source": [
    "**MEFISTO** can be run on a `MuData` object with `mu.tl.mofa` by specifying which variable (*covariate*) should be treated as *time*.\n",
    "\n",
    "- To incorporate the time information, we specify which metadata column to use as a covariate for MEFISTO — `'time'`.\n",
    "\n",
    "- We also specify `'species'` to be used as groups.\n",
    "\n",
    "- We will fill missing samples in certain modalities with `NA` with the setting `use_obs='union'`.\n",
    "\n",
    "- In addition, we tell the model that we want to learn an alignment of the time points from different species by setting `mefisto_warping=True` and using `'Mouse'` as reference.\n",
    "\n",
    "For illustration, we only use a small number of training iterations."
   ]
  },
  {
   "cell_type": "code",
   "execution_count": 11,
   "metadata": {},
   "outputs": [
    {
     "data": {
      "text/plain": [
       "1"
      ]
     },
     "execution_count": 11,
     "metadata": {},
     "output_type": "execute_result"
    }
   ],
   "source": [
    "ref_species = np.where(mdata.obs['species'].unique() == \"Mouse\")[0].item()\n",
    "ref_species"
   ]
  },
  {
   "cell_type": "code",
   "execution_count": 12,
   "metadata": {},
   "outputs": [
    {
     "name": "stdout",
     "output_type": "stream",
     "text": [
      "\n",
      "        #########################################################\n",
      "        ###           __  __  ____  ______                    ### \n",
      "        ###          |  \\/  |/ __ \\|  ____/\\    _             ### \n",
      "        ###          | \\  / | |  | | |__ /  \\ _| |_           ### \n",
      "        ###          | |\\/| | |  | |  __/ /\\ \\_   _|          ###\n",
      "        ###          | |  | | |__| | | / ____ \\|_|            ###\n",
      "        ###          |_|  |_|\\____/|_|/_/    \\_\\              ###\n",
      "        ###                                                   ### \n",
      "        ######################################################### \n",
      "       \n",
      " \n",
      "        \n",
      "Loaded view='Brain' group='Human' with N=23 samples and D=7696 features...\n",
      "Loaded view='Brain' group='Mouse' with N=14 samples and D=7696 features...\n",
      "Loaded view='Brain' group='Opossum' with N=15 samples and D=7696 features...\n",
      "Loaded view='Brain' group='Rabbit' with N=15 samples and D=7696 features...\n",
      "Loaded view='Brain' group='Rat' with N=16 samples and D=7696 features...\n",
      "Loaded view='Cerebellum' group='Human' with N=23 samples and D=7696 features...\n",
      "Loaded view='Cerebellum' group='Mouse' with N=14 samples and D=7696 features...\n",
      "Loaded view='Cerebellum' group='Opossum' with N=15 samples and D=7696 features...\n",
      "Loaded view='Cerebellum' group='Rabbit' with N=15 samples and D=7696 features...\n",
      "Loaded view='Cerebellum' group='Rat' with N=16 samples and D=7696 features...\n",
      "Loaded view='Heart' group='Human' with N=23 samples and D=7696 features...\n",
      "Loaded view='Heart' group='Mouse' with N=14 samples and D=7696 features...\n",
      "Loaded view='Heart' group='Opossum' with N=15 samples and D=7696 features...\n",
      "Loaded view='Heart' group='Rabbit' with N=15 samples and D=7696 features...\n",
      "Loaded view='Heart' group='Rat' with N=16 samples and D=7696 features...\n",
      "Loaded view='Liver' group='Human' with N=23 samples and D=7696 features...\n",
      "Loaded view='Liver' group='Mouse' with N=14 samples and D=7696 features...\n",
      "Loaded view='Liver' group='Opossum' with N=15 samples and D=7696 features...\n",
      "Loaded view='Liver' group='Rabbit' with N=15 samples and D=7696 features...\n",
      "Loaded view='Liver' group='Rat' with N=16 samples and D=7696 features...\n",
      "Loaded view='Testis' group='Human' with N=23 samples and D=7696 features...\n",
      "Loaded view='Testis' group='Mouse' with N=14 samples and D=7696 features...\n",
      "Loaded view='Testis' group='Opossum' with N=15 samples and D=7696 features...\n",
      "Loaded view='Testis' group='Rabbit' with N=15 samples and D=7696 features...\n",
      "Loaded view='Testis' group='Rat' with N=16 samples and D=7696 features...\n",
      "\n",
      "\n",
      "Model options:\n",
      "- Automatic Relevance Determination prior on the factors: True\n",
      "- Automatic Relevance Determination prior on the weights: True\n",
      "- Spike-and-slab prior on the factors: False\n",
      "- Spike-and-slab prior on the weights: True\n",
      "Likelihoods:\n",
      "- View 0 (Brain): gaussian\n",
      "- View 1 (Cerebellum): gaussian\n",
      "- View 2 (Heart): gaussian\n",
      "- View 3 (Liver): gaussian\n",
      "- View 4 (Testis): gaussian\n",
      "\n",
      "\n",
      "Loaded 1 covariate(s) for each sample...\n",
      "\n",
      "\n",
      "Smooth covariate framework is activated. This is not compatible with ARD prior on factors. Setting ard_factors to False...\n",
      "\n",
      "##\n",
      "## Warping set to True: aligning the covariates across groups\n",
      "##\n",
      "\n",
      "\n",
      "######################################\n",
      "## Training the model with seed 1 ##\n",
      "######################################\n",
      "\n",
      "\n",
      "ELBO before training: -15640464.00 \n",
      "\n",
      "Iteration 1: time=1.71, ELBO=-3990165.44, deltaELBO=11650298.559 (74.48819012%), Factors=5\n",
      "Iteration 2: time=1.61, ELBO=-3374831.01, deltaELBO=615334.430 (3.93424665%), Factors=5\n",
      "Iteration 3: time=1.78, ELBO=-3251851.17, deltaELBO=122979.837 (0.78629277%), Factors=5\n",
      "Iteration 4: time=1.87, ELBO=-3199105.78, deltaELBO=52745.393 (0.33723675%), Factors=5\n",
      "Iteration 5: time=1.91, ELBO=-3165664.98, deltaELBO=33440.802 (0.21380953%), Factors=5\n",
      "Iteration 6: time=1.94, ELBO=-3141328.15, deltaELBO=24336.830 (0.15560171%), Factors=5\n",
      "Iteration 7: time=1.90, ELBO=-3123042.84, deltaELBO=18285.303 (0.11691024%), Factors=5\n",
      "Iteration 8: time=1.92, ELBO=-3109604.59, deltaELBO=13438.256 (0.08591981%), Factors=5\n",
      "Iteration 9: time=1.95, ELBO=-3100183.86, deltaELBO=9420.726 (0.06023303%), Factors=5\n",
      "Iteration 10: time=1.95, ELBO=-3093869.89, deltaELBO=6313.970 (0.04036945%), Factors=5\n",
      "Iteration 11: time=1.87, ELBO=-3089657.90, deltaELBO=4211.997 (0.02693013%), Factors=5\n",
      "Iteration 12: time=1.93, ELBO=-3086802.77, deltaELBO=2855.125 (0.01825473%), Factors=5\n",
      "Iteration 13: time=1.96, ELBO=-3084804.17, deltaELBO=1998.599 (0.01277839%), Factors=5\n",
      "Iteration 14: time=1.94, ELBO=-3083340.12, deltaELBO=1464.054 (0.00936068%), Factors=5\n",
      "Iteration 15: time=2.03, ELBO=-3082219.80, deltaELBO=1120.320 (0.00716296%), Factors=5\n",
      "Iteration 16: time=1.85, ELBO=-3081405.98, deltaELBO=813.822 (0.00520331%), Factors=5\n",
      "Iteration 17: time=1.83, ELBO=-3080804.93, deltaELBO=601.047 (0.00384290%), Factors=5\n",
      "Iteration 18: time=1.74, ELBO=-3080333.90, deltaELBO=471.024 (0.00301157%), Factors=5\n",
      "Iteration 19: time=1.78, ELBO=-3079965.43, deltaELBO=368.474 (0.00235590%), Factors=5\n",
      "Importing the dtw module. When using in academic works please cite:\n",
      "  T. Giorgino. Computing and Visualizing Dynamic Time Warping Alignments in R: The dtw Package.\n",
      "  J. Stat. Soft., doi:10.18637/jss.v031.i07.\n",
      "\n",
      "Covariates were aligned between groups.\n",
      "Optimising sigma node...\n",
      "Sigma node has been optimised:\n",
      "- Lengthscales = [2.14, 1.15, 1.41, 2.14, 1.15] \n",
      "- Scale = [0.88, 0.82, 0.88, 0.95, 0.84]\n",
      "Iteration 20: time=1986.47, ELBO=-3079049.71, deltaELBO=915.723 (0.00585483%), Factors=5\n",
      "Iteration 21: time=1.58, ELBO=-3078798.39, deltaELBO=251.313 (0.00160681%), Factors=5\n",
      "Iteration 22: time=1.80, ELBO=-3078588.61, deltaELBO=209.785 (0.00134130%), Factors=5\n",
      "Iteration 23: time=1.70, ELBO=-3078420.09, deltaELBO=168.519 (0.00107745%), Factors=5\n",
      "Iteration 24: time=1.87, ELBO=-3078281.62, deltaELBO=138.473 (0.00088535%), Factors=5\n",
      "\n",
      "\n",
      "#######################\n",
      "## Training finished ##\n",
      "#######################\n",
      "\n",
      "\n",
      "Warning: Output file models/mefisto_evodevo.hdf5 already exists, it will be replaced\n",
      "Saving model in models/mefisto_evodevo.hdf5...\n",
      "Saved MOFA embeddings in .obsm['X_mofa'] slot and their loadings in .varm['LFs'].\n"
     ]
    }
   ],
   "source": [
    "mu.tl.mofa(mdata, use_obs='union', \n",
    "           groups_label=\"species\",\n",
    "           n_factors=5, \n",
    "           mefisto_covariate = 'time',\n",
    "           mefisto_warping = True,\n",
    "           mefisto_warping_ref = ref_species,\n",
    "           outfile=\"models/mefisto_evodevo.hdf5\",\n",
    "           save_interrupted=False, quiet=False,\n",
    "           n_iterations = 25)"
   ]
  },
  {
   "cell_type": "markdown",
   "metadata": {},
   "source": [
    "## Visualization in the factor space"
   ]
  },
  {
   "cell_type": "markdown",
   "metadata": {},
   "source": [
    "Let's take a look at the decomposition learnt by the model."
   ]
  },
  {
   "cell_type": "code",
   "execution_count": 13,
   "metadata": {},
   "outputs": [
    {
     "name": "stderr",
     "output_type": "stream",
     "text": [
      "... storing 'species' as categorical\n",
      "WARNING:matplotlib.axes._axes:*c* argument looks like a single numeric RGB or RGBA sequence, which should be avoided as value-mapping will have precedence in case its length matches with *x* & *y*.  Please use the *color* keyword-argument or provide a 2-D array with a single row if you intend to specify the same RGB or RGBA value for all points.\n",
      "WARNING:matplotlib.axes._axes:*c* argument looks like a single numeric RGB or RGBA sequence, which should be avoided as value-mapping will have precedence in case its length matches with *x* & *y*.  Please use the *color* keyword-argument or provide a 2-D array with a single row if you intend to specify the same RGB or RGBA value for all points.\n",
      "WARNING:matplotlib.axes._axes:*c* argument looks like a single numeric RGB or RGBA sequence, which should be avoided as value-mapping will have precedence in case its length matches with *x* & *y*.  Please use the *color* keyword-argument or provide a 2-D array with a single row if you intend to specify the same RGB or RGBA value for all points.\n",
      "WARNING:matplotlib.axes._axes:*c* argument looks like a single numeric RGB or RGBA sequence, which should be avoided as value-mapping will have precedence in case its length matches with *x* & *y*.  Please use the *color* keyword-argument or provide a 2-D array with a single row if you intend to specify the same RGB or RGBA value for all points.\n",
      "WARNING:matplotlib.axes._axes:*c* argument looks like a single numeric RGB or RGBA sequence, which should be avoided as value-mapping will have precedence in case its length matches with *x* & *y*.  Please use the *color* keyword-argument or provide a 2-D array with a single row if you intend to specify the same RGB or RGBA value for all points.\n"
     ]
    },
    {
     "data": {
      "image/png": "[encoded data removed]",
      "text/plain": [
       "<Figure size 432x288 with 1 Axes>"
      ]
     },
     "metadata": {},
     "output_type": "display_data"
    }
   ],
   "source": [
    "mu.pl.mofa(mdata, color=\"species\", size = 250)"
   ]
  },
  {
   "cell_type": "code",
   "execution_count": 14,
   "metadata": {},
   "outputs": [
    {
     "name": "stderr",
     "output_type": "stream",
     "text": [
      "... storing 'species' as categorical\n",
      "WARNING:matplotlib.axes._axes:*c* argument looks like a single numeric RGB or RGBA sequence, which should be avoided as value-mapping will have precedence in case its length matches with *x* & *y*.  Please use the *color* keyword-argument or provide a 2-D array with a single row if you intend to specify the same RGB or RGBA value for all points.\n",
      "WARNING:matplotlib.axes._axes:*c* argument looks like a single numeric RGB or RGBA sequence, which should be avoided as value-mapping will have precedence in case its length matches with *x* & *y*.  Please use the *color* keyword-argument or provide a 2-D array with a single row if you intend to specify the same RGB or RGBA value for all points.\n",
      "WARNING:matplotlib.axes._axes:*c* argument looks like a single numeric RGB or RGBA sequence, which should be avoided as value-mapping will have precedence in case its length matches with *x* & *y*.  Please use the *color* keyword-argument or provide a 2-D array with a single row if you intend to specify the same RGB or RGBA value for all points.\n",
      "WARNING:matplotlib.axes._axes:*c* argument looks like a single numeric RGB or RGBA sequence, which should be avoided as value-mapping will have precedence in case its length matches with *x* & *y*.  Please use the *color* keyword-argument or provide a 2-D array with a single row if you intend to specify the same RGB or RGBA value for all points.\n",
      "WARNING:matplotlib.axes._axes:*c* argument looks like a single numeric RGB or RGBA sequence, which should be avoided as value-mapping will have precedence in case its length matches with *x* & *y*.  Please use the *color* keyword-argument or provide a 2-D array with a single row if you intend to specify the same RGB or RGBA value for all points.\n"
     ]
    },
    {
     "data": {
      "image/png": "[encoded data removed]",
      "text/plain": [
       "<Figure size 432x288 with 1 Axes>"
      ]
     },
     "metadata": {},
     "output_type": "display_data"
    }
   ],
   "source": [
    "mu.pl.mofa(mdata, color=\"species\", size = 250)"
   ]
  },
  {
   "cell_type": "code",
   "execution_count": 15,
   "metadata": {},
   "outputs": [
    {
     "name": "stderr",
     "output_type": "stream",
     "text": [
      "... storing 'species' as categorical\n"
     ]
    },
    {
     "data": {
      "image/png": "[encoded data removed]",
      "text/plain": [
       "<Figure size 432x288 with 2 Axes>"
      ]
     },
     "metadata": {
      "needs_background": "light"
     },
     "output_type": "display_data"
    }
   ],
   "source": [
    "mu.pl.mofa(mdata, color=\"time\", size = 250)"
   ]
  },
  {
   "cell_type": "code",
   "execution_count": 16,
   "metadata": {},
   "outputs": [
    {
     "name": "stderr",
     "output_type": "stream",
     "text": [
      "... storing 'species' as categorical\n"
     ]
    },
    {
     "data": {
      "image/png": "[encoded data removed]",
      "text/plain": [
       "<Figure size 432x288 with 2 Axes>"
      ]
     },
     "metadata": {
      "needs_background": "light"
     },
     "output_type": "display_data"
    }
   ],
   "source": [
    "mu.pl.mofa(mdata, color=\"time_warped\", size = 250)"
   ]
  },
  {
   "cell_type": "markdown",
   "metadata": {},
   "source": [
    "## Latent factors versus common developmental time"
   ]
  },
  {
   "cell_type": "markdown",
   "metadata": {},
   "source": [
    "We can plot the latent processes along the inferred common developmental time."
   ]
  },
  {
   "cell_type": "code",
   "execution_count": 17,
   "metadata": {},
   "outputs": [],
   "source": [
    "mdata.obs[\"Factor1\"] = mdata.obsm[\"X_mofa\"][:,0]\n",
    "mdata.var_names = mdata.var.index"
   ]
  },
  {
   "cell_type": "markdown",
   "metadata": {},
   "source": [
    "Before alignment:"
   ]
  },
  {
   "cell_type": "code",
   "execution_count": 18,
   "metadata": {},
   "outputs": [
    {
     "name": "stderr",
     "output_type": "stream",
     "text": [
      "... storing 'species' as categorical\n"
     ]
    },
    {
     "data": {
      "image/png": "[encoded data removed]",
      "text/plain": [
       "<Figure size 609.84x288 with 1 Axes>"
      ]
     },
     "metadata": {
      "needs_background": "light"
     },
     "output_type": "display_data"
    }
   ],
   "source": [
    "sc.pl.scatter(mdata, x=\"time\", y=\"Factor1\", color=\"species\", size=200)"
   ]
  },
  {
   "cell_type": "markdown",
   "metadata": {},
   "source": [
    "After alignment:"
   ]
  },
  {
   "cell_type": "code",
   "execution_count": 19,
   "metadata": {},
   "outputs": [
    {
     "data": {
      "image/png": "[encoded data removed]",
      "text/plain": [
       "<Figure size 609.84x288 with 1 Axes>"
      ]
     },
     "metadata": {
      "needs_background": "light"
     },
     "output_type": "display_data"
    }
   ],
   "source": [
    "sc.pl.scatter(mdata, x=\"time_warped\", y=\"Factor1\", color=\"species\", size=200)"
   ]
  },
  {
   "cell_type": "markdown",
   "metadata": {},
   "source": [
    "## Alignment"
   ]
  },
  {
   "cell_type": "markdown",
   "metadata": {},
   "source": [
    "We can also take a look at the learnt alignemnt."
   ]
  },
  {
   "cell_type": "code",
   "execution_count": 20,
   "metadata": {},
   "outputs": [
    {
     "data": {
      "image/png": "[encoded data removed]",
      "text/plain": [
       "<Figure size 609.84x288 with 1 Axes>"
      ]
     },
     "metadata": {
      "needs_background": "light"
     },
     "output_type": "display_data"
    }
   ],
   "source": [
    "sc.pl.scatter(mdata, x=\"time\", y=\"time_warped\", color=\"species\", size=200)"
   ]
  },
  {
   "cell_type": "markdown",
   "metadata": {},
   "source": [
    "## Further analyses"
   ]
  },
  {
   "cell_type": "markdown",
   "metadata": {},
   "source": [
    "Additionally we can take a look at the smoothness and sharedness of the factors, interpolate the factors or cluster the species based on the learnt group kernel of each latent factor.\n",
    "This is not yet implemented for muon and can be done from R as described [here](https://raw.githack.com/bioFAM/MEFISTO_tutorials/master/evodevo_tutorial.html)."
   ]
  },
  {
   "cell_type": "code",
   "execution_count": null,
   "metadata": {},
   "outputs": [],
   "source": []
  }
 ],
 "metadata": {
  "kernelspec": {
   "display_name": "Muon (kernel)",
   "language": "python",
   "name": "muon"
  },
  "language_info": {
   "codemirror_mode": {
    "name": "ipython",
    "version": 3
   },
   "file_extension": ".py",
   "mimetype": "text/x-python",
   "name": "python",
   "nbconvert_exporter": "python",
   "pygments_lexer": "ipython3",
   "version": "3.7.9"
  }
 },
 "nbformat": 4,
 "nbformat_minor": 4
}
